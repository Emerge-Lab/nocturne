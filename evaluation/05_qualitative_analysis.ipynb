{
 "cells": [
  {
   "cell_type": "code",
   "execution_count": 1,
   "metadata": {},
   "outputs": [],
   "source": [
    "# Dependencies\n",
    "import pandas as pd\n",
    "import seaborn as sns\n",
    "import numpy as np\n",
    "from IPython.display import HTML, Image\n",
    "import warnings\n",
    "from nocturne.envs.base_env import BaseEnv\n",
    "from pathlib import Path\n",
    "from pyvirtualdisplay import Display\n",
    "import pickle\n",
    "import imageio\n",
    "import pandas as pd\n",
    "import seaborn as sns\n",
    "import logging\n",
    "import matplotlib.pyplot as plt\n",
    "import torch\n",
    "from utils.config import load_config_nb\n",
    "from utils.sb3.reg_ppo import RegularizedPPO\n",
    "from utils.policies import load_policy\n",
    "\n",
    "sns.set('notebook', font_scale=1.1, rc={'figure.figsize': (8, 3)})\n",
    "sns.set_style('ticks', rc={'figure.facecolor': 'none', 'axes.facecolor': 'none'})\n",
    "%config InlineBackend.figure_format = 'svg'\n",
    "warnings.filterwarnings(\"ignore\")\n",
    "plt.set_loglevel('WARNING')"
   ]
  },
  {
   "cell_type": "markdown",
   "metadata": {},
   "source": [
    "### Configurations"
   ]
  },
  {
   "cell_type": "code",
   "execution_count": 2,
   "metadata": {},
   "outputs": [],
   "source": [
    "# Trained policies\n",
    "model_config = load_config_nb('models_main_paper')\n",
    "\n",
    "# Environment settings\n",
    "env_config = load_config_nb('env_config')\n",
    "env_config.data_path = '../data/train_no_tl'\n",
    "\n",
    "# Single or multi-agent\n",
    "env_config.max_num_vehicles = 1\n",
    "\n",
    "# Videos\n",
    "VIDEO_PATH = f'../evaluation/videos/intersecting_paths'\n",
    "TRAJ_PATH = f'../evaluation/figures/trajectories'"
   ]
  },
  {
   "cell_type": "markdown",
   "metadata": {},
   "source": [
    "### Trained models"
   ]
  },
  {
   "cell_type": "code",
   "execution_count": 3,
   "metadata": {},
   "outputs": [
    {
     "data": {
      "text/plain": [
       "Box({'name': 'human_policy_D651_S500_02_18_20_05_AV_ONLY', 'agent': 'BC', 'train_agent': '-', 'num_scenes': 200, 'wandb_run': '-'})"
      ]
     },
     "execution_count": 3,
     "metadata": {},
     "output_type": "execute_result"
    }
   ],
   "source": [
    "model_config['used_human_policy'][0]"
   ]
  },
  {
   "cell_type": "code",
   "execution_count": 4,
   "metadata": {},
   "outputs": [
    {
     "name": "stderr",
     "output_type": "stream",
     "text": [
      "INFO:root:No regularization weight specified, using default PPO.\n",
      "INFO:root:Using regularization loss: None\n",
      "INFO:root:No regularization weight specified, using default PPO.\n",
      "INFO:root:Using regularization loss: None\n",
      "INFO:root:\n",
      " \n",
      " Using PPO policy: policy_L0.0_S200_I3000.zip and HR-PPO policy: policy_L0.07_S100_I3065.zip\n",
      "\n"
     ]
    }
   ],
   "source": [
    "# IL policy\n",
    "human_policy = load_policy(\n",
    "    data_path=f'../{model_config.bc_models_dir}',\n",
    "    file_name=f'{model_config[\"used_human_policy\"][0].name}',\n",
    ")\n",
    "\n",
    "\n",
    "# RL policies\n",
    "best_ppo = model_config.best_overall_models[0].name\n",
    "best_hr_ppo = model_config.best_overall_models[2].name\n",
    "\n",
    "ppo_policy = RegularizedPPO.load(\n",
    "    f'../{model_config.hr_ppo_models_dir_self_play}/{best_ppo}'\n",
    ")\n",
    "\n",
    "hr_ppo_policy = RegularizedPPO.load(\n",
    "    f'../{model_config.hr_ppo_models_dir_self_play}/{best_hr_ppo}'\n",
    ")\n",
    "\n",
    "logging.info(f'\\n \\n Using PPO policy: {best_ppo} and HR-PPO policy: {best_hr_ppo}\\n')"
   ]
  },
  {
   "cell_type": "markdown",
   "metadata": {},
   "source": [
    "### Helper functions"
   ]
  },
  {
   "cell_type": "code",
   "execution_count": 5,
   "metadata": {},
   "outputs": [],
   "source": [
    "def create_video(image_array, filename, *, fps=5, loop=500):\n",
    "    with imageio.get_writer(filename, duration=1_000 / fps, loop=loop) as writer:\n",
    "        for img in image_array:\n",
    "            img = np.moveaxis(img, [0, 1, 2], [2, 0, 1])\n",
    "            writer.append_data(img)\n",
    "\n",
    "def display_gif(filename, width=500, height=500):\n",
    "    display(\n",
    "        Image(\n",
    "            data=open(filename, \"rb\").read(), format=\"gif\", width=width, height=height\n",
    "        )\n",
    "    )"
   ]
  },
  {
   "cell_type": "markdown",
   "metadata": {},
   "source": [
    "### Load dataframe to select scenarios from"
   ]
  },
  {
   "cell_type": "code",
   "execution_count": 6,
   "metadata": {},
   "outputs": [],
   "source": [
    "df = pd.read_csv('../evaluation/results/df_paper_agg_performance_03_07_14_02_200train_scenes_10_000_test_final.csv')\n",
    "df_scenes = df[['scene_id', 'num_total_vehs', 'veh_int_paths', 'tot_int_paths', 'goal_rate', 'off_road', 'veh_veh_collision', 'Dataset']]"
   ]
  },
  {
   "cell_type": "code",
   "execution_count": 7,
   "metadata": {},
   "outputs": [],
   "source": [
    "# Settings\n",
    "NUM_INTERSECTING_PATHS = 1\n",
    "GOAL_RATE = 1\n",
    "MAX_TOTAL_VEHICLES = 5\n",
    "\n",
    "df_scenes = df_scenes[df_scenes['Dataset'] == 'Train']\n",
    "df_scenes = df_scenes[(df_scenes['veh_int_paths'] == NUM_INTERSECTING_PATHS) & (df_scenes['goal_rate'] == GOAL_RATE & (df_scenes['num_total_vehs'] < MAX_TOTAL_VEHICLES))]"
   ]
  },
  {
   "cell_type": "code",
   "execution_count": 8,
   "metadata": {},
   "outputs": [
    {
     "data": {
      "text/html": [
       "<div>\n",
       "<style scoped>\n",
       "    .dataframe tbody tr th:only-of-type {\n",
       "        vertical-align: middle;\n",
       "    }\n",
       "\n",
       "    .dataframe tbody tr th {\n",
       "        vertical-align: top;\n",
       "    }\n",
       "\n",
       "    .dataframe thead th {\n",
       "        text-align: right;\n",
       "    }\n",
       "</style>\n",
       "<table border=\"1\" class=\"dataframe\">\n",
       "  <thead>\n",
       "    <tr style=\"text-align: right;\">\n",
       "      <th></th>\n",
       "      <th>scene_id</th>\n",
       "      <th>num_total_vehs</th>\n",
       "      <th>veh_int_paths</th>\n",
       "      <th>tot_int_paths</th>\n",
       "      <th>goal_rate</th>\n",
       "      <th>off_road</th>\n",
       "      <th>veh_veh_collision</th>\n",
       "      <th>Dataset</th>\n",
       "    </tr>\n",
       "  </thead>\n",
       "  <tbody>\n",
       "    <tr>\n",
       "      <th>112</th>\n",
       "      <td>tfrecord-00073-of-01000_439.json</td>\n",
       "      <td>2</td>\n",
       "      <td>1.0</td>\n",
       "      <td>1.0</td>\n",
       "      <td>1.0</td>\n",
       "      <td>0.0</td>\n",
       "      <td>0.0</td>\n",
       "      <td>Train</td>\n",
       "    </tr>\n",
       "    <tr>\n",
       "      <th>113</th>\n",
       "      <td>tfrecord-00073-of-01000_439.json</td>\n",
       "      <td>2</td>\n",
       "      <td>1.0</td>\n",
       "      <td>1.0</td>\n",
       "      <td>1.0</td>\n",
       "      <td>0.0</td>\n",
       "      <td>0.0</td>\n",
       "      <td>Train</td>\n",
       "    </tr>\n",
       "    <tr>\n",
       "      <th>139</th>\n",
       "      <td>tfrecord-00031-of-01000_17.json</td>\n",
       "      <td>11</td>\n",
       "      <td>1.0</td>\n",
       "      <td>2.0</td>\n",
       "      <td>0.0</td>\n",
       "      <td>0.0</td>\n",
       "      <td>1.0</td>\n",
       "      <td>Train</td>\n",
       "    </tr>\n",
       "    <tr>\n",
       "      <th>200</th>\n",
       "      <td>tfrecord-00031-of-01000_10.json</td>\n",
       "      <td>4</td>\n",
       "      <td>1.0</td>\n",
       "      <td>2.0</td>\n",
       "      <td>1.0</td>\n",
       "      <td>0.0</td>\n",
       "      <td>0.0</td>\n",
       "      <td>Train</td>\n",
       "    </tr>\n",
       "    <tr>\n",
       "      <th>204</th>\n",
       "      <td>tfrecord-00067-of-01000_85.json</td>\n",
       "      <td>4</td>\n",
       "      <td>1.0</td>\n",
       "      <td>1.0</td>\n",
       "      <td>1.0</td>\n",
       "      <td>0.0</td>\n",
       "      <td>0.0</td>\n",
       "      <td>Train</td>\n",
       "    </tr>\n",
       "  </tbody>\n",
       "</table>\n",
       "</div>"
      ],
      "text/plain": [
       "                             scene_id  num_total_vehs  veh_int_paths  \\\n",
       "112  tfrecord-00073-of-01000_439.json               2            1.0   \n",
       "113  tfrecord-00073-of-01000_439.json               2            1.0   \n",
       "139   tfrecord-00031-of-01000_17.json              11            1.0   \n",
       "200   tfrecord-00031-of-01000_10.json               4            1.0   \n",
       "204   tfrecord-00067-of-01000_85.json               4            1.0   \n",
       "\n",
       "     tot_int_paths  goal_rate  off_road  veh_veh_collision Dataset  \n",
       "112            1.0        1.0       0.0                0.0   Train  \n",
       "113            1.0        1.0       0.0                0.0   Train  \n",
       "139            2.0        0.0       0.0                1.0   Train  \n",
       "200            2.0        1.0       0.0                0.0   Train  \n",
       "204            1.0        1.0       0.0                0.0   Train  "
      ]
     },
     "execution_count": 8,
     "metadata": {},
     "output_type": "execute_result"
    }
   ],
   "source": [
    "df_scenes.head()"
   ]
  },
  {
   "cell_type": "markdown",
   "metadata": {},
   "source": [
    "### Render"
   ]
  },
  {
   "cell_type": "code",
   "execution_count": 9,
   "metadata": {},
   "outputs": [
    {
     "data": {
      "text/html": [
       "<div>\n",
       "<style scoped>\n",
       "    .dataframe tbody tr th:only-of-type {\n",
       "        vertical-align: middle;\n",
       "    }\n",
       "\n",
       "    .dataframe tbody tr th {\n",
       "        vertical-align: top;\n",
       "    }\n",
       "\n",
       "    .dataframe thead th {\n",
       "        text-align: right;\n",
       "    }\n",
       "</style>\n",
       "<table border=\"1\" class=\"dataframe\">\n",
       "  <thead>\n",
       "    <tr style=\"text-align: right;\">\n",
       "      <th></th>\n",
       "      <th>scene_id</th>\n",
       "      <th>num_total_vehs</th>\n",
       "      <th>veh_int_paths</th>\n",
       "      <th>tot_int_paths</th>\n",
       "      <th>goal_rate</th>\n",
       "      <th>off_road</th>\n",
       "      <th>veh_veh_collision</th>\n",
       "      <th>Dataset</th>\n",
       "    </tr>\n",
       "  </thead>\n",
       "  <tbody>\n",
       "    <tr>\n",
       "      <th>30646</th>\n",
       "      <td>tfrecord-00000-of-01000_470.json</td>\n",
       "      <td>6</td>\n",
       "      <td>1.0</td>\n",
       "      <td>2.0</td>\n",
       "      <td>0.0</td>\n",
       "      <td>0.0</td>\n",
       "      <td>1.0</td>\n",
       "      <td>Train</td>\n",
       "    </tr>\n",
       "  </tbody>\n",
       "</table>\n",
       "</div>"
      ],
      "text/plain": [
       "                               scene_id  num_total_vehs  veh_int_paths  \\\n",
       "30646  tfrecord-00000-of-01000_470.json               6            1.0   \n",
       "\n",
       "       tot_int_paths  goal_rate  off_road  veh_veh_collision Dataset  \n",
       "30646            2.0        0.0       0.0                1.0   Train  "
      ]
     },
     "metadata": {},
     "output_type": "display_data"
    }
   ],
   "source": [
    "# Sample a random scene\n",
    "random_scene = df_scenes.sample(n=1) \n",
    "display(random_scene)\n",
    "scene_name = str(random_scene.scene_id.values[0])"
   ]
  },
  {
   "cell_type": "code",
   "execution_count": 10,
   "metadata": {},
   "outputs": [],
   "source": [
    "MODEL = \"PPO\""
   ]
  },
  {
   "cell_type": "code",
   "execution_count": null,
   "metadata": {},
   "outputs": [],
   "source": [
    "if MODEL == \"PPO\":\n",
    "    policy = ppo_policy\n",
    "\n",
    "elif MODEL == \"HR-PPO\": \n",
    "    policy = hr_ppo_policy\n",
    "\n",
    "env = BaseEnv(env_config)\n",
    "\n",
    "obs_dict = env.reset(filename=scene_name)\n",
    "frames = []\n",
    "\n",
    "for time_step in range(env_config.episode_length):\n",
    "    \n",
    "    action_dict = {}\n",
    "    for agent_id in obs_dict:\n",
    "        # Get observation\n",
    "        obs = torch.from_numpy(obs_dict[agent_id]).unsqueeze(dim=0)\n",
    "\n",
    "        # Get action\n",
    "        action, _ = policy.predict(obs, deterministic=True)\n",
    "        action_dict[agent_id] = int(action)\n",
    "\n",
    "    # Step\n",
    "    obs_dict, rew_dict, done_dict, info_dict = env.step(action_dict)\n",
    "    \n",
    "    if done_dict['__all__']:\n",
    "        last_frame = env.scenario.getImage(\n",
    "                img_width=1000,\n",
    "                img_height=1000,\n",
    "                draw_target_positions=True,\n",
    "                padding=50.0,\n",
    "                sources=[env.controlled_vehicles[0]],\n",
    "                view_width=100,\n",
    "                view_height=100,\n",
    "                rotate_with_source=False,\n",
    "            )\n",
    "        \n",
    "        print(info_dict[agent_id])\n",
    "        break "
   ]
  },
  {
   "cell_type": "code",
   "execution_count": null,
   "metadata": {},
   "outputs": [],
   "source": []
  }
 ],
 "metadata": {
  "kernelspec": {
   "display_name": "nocturne_lab",
   "language": "python",
   "name": "python3"
  },
  "language_info": {
   "codemirror_mode": {
    "name": "ipython",
    "version": 3
   },
   "file_extension": ".py",
   "mimetype": "text/x-python",
   "name": "python",
   "nbconvert_exporter": "python",
   "pygments_lexer": "ipython3",
   "version": "3.10.12"
  }
 },
 "nbformat": 4,
 "nbformat_minor": 2
}
