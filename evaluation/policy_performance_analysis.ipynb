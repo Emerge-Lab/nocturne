{
 "cells": [
  {
   "cell_type": "markdown",
   "metadata": {},
   "source": [
    "## PPO performance analysis and deep dive\n",
    "\n",
    "**Questions**\n",
    "- What kind of scenes are hard to learn?\n",
    "    - Properties (# agents), # intersections, etc...\n",
    "\n",
    "\n",
    "**Procedure**\n",
    "- Take a trained PPO model\n",
    "- Evaluate model:\n",
    "    - Single-agent mode (use policy to control a single-agent, the rest are expert-controlled)\n",
    "    - Multi-agent mode (use policy to control all agents in the scene)"
   ]
  },
  {
   "cell_type": "code",
   "execution_count": 1,
   "metadata": {},
   "outputs": [],
   "source": [
    "# Dependencies\n",
    "import glob\n",
    "import pandas as pd\n",
    "import seaborn as sns\n",
    "import numpy as np\n",
    "import warnings\n",
    "import torch\n",
    "import imageio\n",
    "import logging\n",
    "import os\n",
    "import matplotlib.pyplot as plt\n",
    "from evaluation.policy_evaluation import evaluate_policy\n",
    "from networks.perm_eq_late_fusion import LateFusionNet, LateFusionPolicy\n",
    "from utils.plot import plot_agent_trajectory\n",
    "from utils.config import load_config_nb\n",
    "from utils.sb3.reg_ppo import RegularizedPPO\n",
    "\n",
    "sns.set('notebook', font_scale=1.1, rc={'figure.figsize': (10, 5)})\n",
    "sns.set_style('ticks', rc={'figure.facecolor': 'none', 'axes.facecolor': 'none'})\n",
    "%config InlineBackend.figure_format = 'svg'\n",
    "warnings.filterwarnings(\"ignore\")\n",
    "plt.set_loglevel('WARNING')"
   ]
  },
  {
   "cell_type": "markdown",
   "metadata": {},
   "source": [
    "### Configurations "
   ]
  },
  {
   "cell_type": "code",
   "execution_count": 68,
   "metadata": {},
   "outputs": [],
   "source": [
    "MAX_FILES = 1000\n",
    "DETERMINISTIC = True \n",
    "SELECT_FROM = 1000\n",
    "NUM_EVAL_EPISODES = 1000\n",
    "METRICS = ['goal_rate', 'off_road', 'veh_veh_collision']\n",
    "\n",
    "TRAIN_DATA_PATH = '../data_full/train'\n",
    "TEST_DATA_PATH = '../data_full/valid'\n",
    "\n",
    "# Load config files\n",
    "env_config = load_config_nb(\"env_config\")\n",
    "exp_config = load_config_nb(\"exp_config\")\n",
    "video_config = load_config_nb(\"video_config\")\n",
    "model_config = load_config_nb(\"model_config\")\n",
    "\n",
    "# Set data path\n",
    "env_config.num_files = MAX_FILES\n",
    "\n",
    "# Logging level set to INFO\n",
    "LOGGING_LEVEL = \"INFO\"\n",
    "\n",
    "# Scenes on which to evaluate the models\n",
    "# Make sure file order is fixed\n",
    "train_file_paths = glob.glob(f\"{env_config.data_path}\" + \"/tfrecord*\")\n",
    "train_eval_files = sorted([os.path.basename(file) for file in train_file_paths])"
   ]
  },
  {
   "cell_type": "markdown",
   "metadata": {},
   "source": [
    "### Helper functions "
   ]
  },
  {
   "cell_type": "code",
   "execution_count": 69,
   "metadata": {},
   "outputs": [],
   "source": [
    "def create_video(image_array, filename, *, fps=4, loop=500):\n",
    "    with imageio.get_writer(filename, duration=1_000 / fps, loop=loop) as writer:\n",
    "        for img in image_array:\n",
    "            img = np.moveaxis(img, [0, 1, 2], [2, 0, 1])\n",
    "            writer.append_data(img)\n",
    "\n",
    "\n",
    "def display_gif(filename, width=500, height=500):\n",
    "    display(\n",
    "        Image(\n",
    "            data=open(filename, \"rb\").read(), format=\"gif\", width=width, height=height\n",
    "        )\n",
    "    )"
   ]
  },
  {
   "cell_type": "markdown",
   "metadata": {},
   "source": [
    "### Load trained PPO policy"
   ]
  },
  {
   "cell_type": "code",
   "execution_count": 70,
   "metadata": {},
   "outputs": [
    {
     "name": "stderr",
     "output_type": "stream",
     "text": [
      "INFO:root:No regularization weight specified, using default PPO.\n"
     ]
    }
   ],
   "source": [
    "RL_BASE_PATH = f\"../models/hr_rl/S{MAX_FILES}\"\n",
    "POLICY_NAME = 'policy_L0.0_S1000_I606'\n",
    "rl_policy = RegularizedPPO.load(f'{RL_BASE_PATH}/{POLICY_NAME}')"
   ]
  },
  {
   "cell_type": "markdown",
   "metadata": {},
   "source": [
    "## 1. Aggregate performance"
   ]
  },
  {
   "cell_type": "markdown",
   "metadata": {},
   "source": [
    "### 1.1 Single-agent mode | **train**"
   ]
  },
  {
   "cell_type": "code",
   "execution_count": 71,
   "metadata": {},
   "outputs": [
    {
     "name": "stderr",
     "output_type": "stream",
     "text": [
      "100%|██████████| 1000/1000 [01:10<00:00, 14.10it/s]\n"
     ]
    }
   ],
   "source": [
    "df_res_sa_train = evaluate_policy(\n",
    "    env_config=env_config,\n",
    "    controlled_agents=1,\n",
    "    data_path=TRAIN_DATA_PATH,\n",
    "    mode='policy',\n",
    "    policy=rl_policy,\n",
    "    select_from_k_scenes=SELECT_FROM,\n",
    "    num_episodes=NUM_EVAL_EPISODES,\n",
    ")\n",
    "\n",
    "df_res_sa_train['Class'] = 'SA_train'"
   ]
  },
  {
   "cell_type": "code",
   "execution_count": 72,
   "metadata": {},
   "outputs": [
    {
     "data": {
      "text/plain": [
       "goal_rate            73.8\n",
       "off_road              4.4\n",
       "veh_veh_collision    23.6\n",
       "dtype: float64"
      ]
     },
     "execution_count": 72,
     "metadata": {},
     "output_type": "execute_result"
    }
   ],
   "source": [
    "df_res_sa_train[METRICS].mean() * 100"
   ]
  },
  {
   "cell_type": "markdown",
   "metadata": {},
   "source": [
    "### 1.2 Single-agent mode | **test**"
   ]
  },
  {
   "cell_type": "code",
   "execution_count": 73,
   "metadata": {},
   "outputs": [
    {
     "name": "stderr",
     "output_type": "stream",
     "text": [
      "  0%|          | 0/1000 [00:00<?, ?it/s]"
     ]
    },
    {
     "name": "stderr",
     "output_type": "stream",
     "text": [
      "100%|██████████| 1000/1000 [01:08<00:00, 14.68it/s]\n"
     ]
    }
   ],
   "source": [
    "df_res_sa_test = evaluate_policy(\n",
    "    env_config=env_config,\n",
    "    controlled_agents=1,\n",
    "    data_path=TEST_DATA_PATH,\n",
    "    mode='policy',\n",
    "    policy=rl_policy,\n",
    "    select_from_k_scenes=SELECT_FROM,\n",
    "    num_episodes=NUM_EVAL_EPISODES,\n",
    ")\n",
    "\n",
    "df_res_sa_test['Class'] = 'SA_test'"
   ]
  },
  {
   "cell_type": "code",
   "execution_count": 74,
   "metadata": {},
   "outputs": [
    {
     "data": {
      "text/plain": [
       "goal_rate            74.7\n",
       "off_road              3.9\n",
       "veh_veh_collision    22.0\n",
       "dtype: float64"
      ]
     },
     "execution_count": 74,
     "metadata": {},
     "output_type": "execute_result"
    }
   ],
   "source": [
    "df_res_sa_test[METRICS].mean() * 100"
   ]
  },
  {
   "cell_type": "markdown",
   "metadata": {},
   "source": [
    "### 1.3 Multi-agent mode | **train**"
   ]
  },
  {
   "cell_type": "code",
   "execution_count": 75,
   "metadata": {},
   "outputs": [
    {
     "name": "stderr",
     "output_type": "stream",
     "text": [
      "  0%|          | 0/1000 [00:00<?, ?it/s]"
     ]
    },
    {
     "name": "stderr",
     "output_type": "stream",
     "text": [
      "100%|██████████| 1000/1000 [03:51<00:00,  4.32it/s]\n"
     ]
    }
   ],
   "source": [
    "df_res_ma_train = evaluate_policy(\n",
    "    env_config=env_config,\n",
    "    controlled_agents=20,\n",
    "    data_path=TRAIN_DATA_PATH,\n",
    "    mode='policy',\n",
    "    policy=rl_policy,\n",
    "    select_from_k_scenes=SELECT_FROM,\n",
    "    num_episodes=NUM_EVAL_EPISODES,\n",
    ")\n",
    "\n",
    "df_res_ma_train['Class'] = 'MA_train'"
   ]
  },
  {
   "cell_type": "code",
   "execution_count": 76,
   "metadata": {},
   "outputs": [
    {
     "data": {
      "text/plain": [
       "goal_rate            83.030303\n",
       "off_road              4.646465\n",
       "veh_veh_collision    13.246753\n",
       "dtype: float64"
      ]
     },
     "execution_count": 76,
     "metadata": {},
     "output_type": "execute_result"
    }
   ],
   "source": [
    "df_res_ma_train[METRICS].mean() * 100"
   ]
  },
  {
   "cell_type": "markdown",
   "metadata": {},
   "source": [
    "### 1.4 Multi-agent mode | **test**"
   ]
  },
  {
   "cell_type": "code",
   "execution_count": 77,
   "metadata": {},
   "outputs": [
    {
     "name": "stderr",
     "output_type": "stream",
     "text": [
      "  0%|          | 0/1000 [00:00<?, ?it/s]"
     ]
    },
    {
     "name": "stderr",
     "output_type": "stream",
     "text": [
      "100%|██████████| 1000/1000 [03:44<00:00,  4.45it/s]\n"
     ]
    }
   ],
   "source": [
    "df_res_ma_test = evaluate_policy(\n",
    "    env_config=env_config,\n",
    "    controlled_agents=20,\n",
    "    data_path=TEST_DATA_PATH,\n",
    "    mode='policy',\n",
    "    policy=rl_policy,\n",
    "    select_from_k_scenes=SELECT_FROM,\n",
    "    num_episodes=NUM_EVAL_EPISODES,\n",
    ")\n",
    "\n",
    "df_res_ma_test['Class'] = 'MA_test'"
   ]
  },
  {
   "cell_type": "code",
   "execution_count": 78,
   "metadata": {},
   "outputs": [
    {
     "data": {
      "text/plain": [
       "goal_rate            84.811432\n",
       "off_road              4.110194\n",
       "veh_veh_collision    11.785504\n",
       "dtype: float64"
      ]
     },
     "execution_count": 78,
     "metadata": {},
     "output_type": "execute_result"
    }
   ],
   "source": [
    "df_res_ma_test[METRICS].mean() * 100"
   ]
  },
  {
   "cell_type": "markdown",
   "metadata": {},
   "source": [
    "## 2. Properties of hard scenes"
   ]
  },
  {
   "cell_type": "code",
   "execution_count": 81,
   "metadata": {},
   "outputs": [],
   "source": [
    "df_all = pd.concat([df_res_sa_train, df_res_sa_test, df_res_ma_train, df_res_ma_test])"
   ]
  },
  {
   "cell_type": "code",
   "execution_count": 82,
   "metadata": {},
   "outputs": [
    {
     "data": {
      "text/html": [
       "<div>\n",
       "<style scoped>\n",
       "    .dataframe tbody tr th:only-of-type {\n",
       "        vertical-align: middle;\n",
       "    }\n",
       "\n",
       "    .dataframe tbody tr th {\n",
       "        vertical-align: top;\n",
       "    }\n",
       "\n",
       "    .dataframe thead th {\n",
       "        text-align: right;\n",
       "    }\n",
       "</style>\n",
       "<table border=\"1\" class=\"dataframe\">\n",
       "  <thead>\n",
       "    <tr style=\"text-align: right;\">\n",
       "      <th></th>\n",
       "      <th>goal_rate</th>\n",
       "      <th>off_road</th>\n",
       "      <th>veh_veh_collision</th>\n",
       "    </tr>\n",
       "    <tr>\n",
       "      <th>Class</th>\n",
       "      <th></th>\n",
       "      <th></th>\n",
       "      <th></th>\n",
       "    </tr>\n",
       "  </thead>\n",
       "  <tbody>\n",
       "    <tr>\n",
       "      <th>MA_test</th>\n",
       "      <td>0.848114</td>\n",
       "      <td>0.041102</td>\n",
       "      <td>0.117855</td>\n",
       "    </tr>\n",
       "    <tr>\n",
       "      <th>MA_train</th>\n",
       "      <td>0.830303</td>\n",
       "      <td>0.046465</td>\n",
       "      <td>0.132468</td>\n",
       "    </tr>\n",
       "    <tr>\n",
       "      <th>SA_test</th>\n",
       "      <td>0.747000</td>\n",
       "      <td>0.039000</td>\n",
       "      <td>0.220000</td>\n",
       "    </tr>\n",
       "    <tr>\n",
       "      <th>SA_train</th>\n",
       "      <td>0.738000</td>\n",
       "      <td>0.044000</td>\n",
       "      <td>0.236000</td>\n",
       "    </tr>\n",
       "  </tbody>\n",
       "</table>\n",
       "</div>"
      ],
      "text/plain": [
       "          goal_rate  off_road  veh_veh_collision\n",
       "Class                                           \n",
       "MA_test    0.848114  0.041102           0.117855\n",
       "MA_train   0.830303  0.046465           0.132468\n",
       "SA_test    0.747000  0.039000           0.220000\n",
       "SA_train   0.738000  0.044000           0.236000"
      ]
     },
     "execution_count": 82,
     "metadata": {},
     "output_type": "execute_result"
    }
   ],
   "source": [
    "df_all.groupby('Class')[METRICS].mean()"
   ]
  },
  {
   "cell_type": "code",
   "execution_count": 91,
   "metadata": {},
   "outputs": [
    {
     "data": {
      "text/html": [
       "<div>\n",
       "<style scoped>\n",
       "    .dataframe tbody tr th:only-of-type {\n",
       "        vertical-align: middle;\n",
       "    }\n",
       "\n",
       "    .dataframe tbody tr th {\n",
       "        vertical-align: top;\n",
       "    }\n",
       "\n",
       "    .dataframe thead th {\n",
       "        text-align: right;\n",
       "    }\n",
       "</style>\n",
       "<table border=\"1\" class=\"dataframe\">\n",
       "  <thead>\n",
       "    <tr style=\"text-align: right;\">\n",
       "      <th></th>\n",
       "      <th>goal_rate</th>\n",
       "      <th>off_road</th>\n",
       "      <th>veh_veh_collision</th>\n",
       "    </tr>\n",
       "    <tr>\n",
       "      <th>scene_id</th>\n",
       "      <th></th>\n",
       "      <th></th>\n",
       "      <th></th>\n",
       "    </tr>\n",
       "  </thead>\n",
       "  <tbody>\n",
       "    <tr>\n",
       "      <th>tfrecord-00000-of-00150_170.json</th>\n",
       "      <td>74.0</td>\n",
       "      <td>2.0</td>\n",
       "      <td>0.0</td>\n",
       "    </tr>\n",
       "    <tr>\n",
       "      <th>tfrecord-00004-of-00150_57.json</th>\n",
       "      <td>59.0</td>\n",
       "      <td>4.0</td>\n",
       "      <td>9.0</td>\n",
       "    </tr>\n",
       "    <tr>\n",
       "      <th>tfrecord-00003-of-00150_203.json</th>\n",
       "      <td>58.0</td>\n",
       "      <td>0.0</td>\n",
       "      <td>5.0</td>\n",
       "    </tr>\n",
       "    <tr>\n",
       "      <th>tfrecord-00011-of-00150_69.json</th>\n",
       "      <td>57.0</td>\n",
       "      <td>0.0</td>\n",
       "      <td>6.0</td>\n",
       "    </tr>\n",
       "    <tr>\n",
       "      <th>tfrecord-00010-of-00150_84.json</th>\n",
       "      <td>56.0</td>\n",
       "      <td>0.0</td>\n",
       "      <td>8.0</td>\n",
       "    </tr>\n",
       "    <tr>\n",
       "      <th>...</th>\n",
       "      <td>...</td>\n",
       "      <td>...</td>\n",
       "      <td>...</td>\n",
       "    </tr>\n",
       "    <tr>\n",
       "      <th>tfrecord-00002-of-00150_268.json</th>\n",
       "      <td>0.0</td>\n",
       "      <td>0.0</td>\n",
       "      <td>2.0</td>\n",
       "    </tr>\n",
       "    <tr>\n",
       "      <th>tfrecord-00002-of-00150_68.json</th>\n",
       "      <td>0.0</td>\n",
       "      <td>0.0</td>\n",
       "      <td>3.0</td>\n",
       "    </tr>\n",
       "    <tr>\n",
       "      <th>tfrecord-00132-of-01000_254.json</th>\n",
       "      <td>0.0</td>\n",
       "      <td>0.0</td>\n",
       "      <td>2.0</td>\n",
       "    </tr>\n",
       "    <tr>\n",
       "      <th>tfrecord-00011-of-00150_250.json</th>\n",
       "      <td>0.0</td>\n",
       "      <td>0.0</td>\n",
       "      <td>4.0</td>\n",
       "    </tr>\n",
       "    <tr>\n",
       "      <th>tfrecord-00918-of-01000_110.json</th>\n",
       "      <td>0.0</td>\n",
       "      <td>9.0</td>\n",
       "      <td>0.0</td>\n",
       "    </tr>\n",
       "  </tbody>\n",
       "</table>\n",
       "<p>1265 rows × 3 columns</p>\n",
       "</div>"
      ],
      "text/plain": [
       "                                  goal_rate  off_road  veh_veh_collision\n",
       "scene_id                                                                \n",
       "tfrecord-00000-of-00150_170.json       74.0       2.0                0.0\n",
       "tfrecord-00004-of-00150_57.json        59.0       4.0                9.0\n",
       "tfrecord-00003-of-00150_203.json       58.0       0.0                5.0\n",
       "tfrecord-00011-of-00150_69.json        57.0       0.0                6.0\n",
       "tfrecord-00010-of-00150_84.json        56.0       0.0                8.0\n",
       "...                                     ...       ...                ...\n",
       "tfrecord-00002-of-00150_268.json        0.0       0.0                2.0\n",
       "tfrecord-00002-of-00150_68.json         0.0       0.0                3.0\n",
       "tfrecord-00132-of-01000_254.json        0.0       0.0                2.0\n",
       "tfrecord-00011-of-00150_250.json        0.0       0.0                4.0\n",
       "tfrecord-00918-of-01000_110.json        0.0       9.0                0.0\n",
       "\n",
       "[1265 rows x 3 columns]"
      ]
     },
     "execution_count": 91,
     "metadata": {},
     "output_type": "execute_result"
    }
   ],
   "source": [
    "# Group by scene and sort by goal rate\n",
    "df_all.groupby('scene_id')[METRICS].sum().sort_values('goal_rate', ascending=False)"
   ]
  },
  {
   "cell_type": "code",
   "execution_count": null,
   "metadata": {},
   "outputs": [],
   "source": []
  },
  {
   "cell_type": "code",
   "execution_count": null,
   "metadata": {},
   "outputs": [],
   "source": []
  },
  {
   "cell_type": "code",
   "execution_count": null,
   "metadata": {},
   "outputs": [],
   "source": []
  }
 ],
 "metadata": {
  "kernelspec": {
   "display_name": "nocturne_lab",
   "language": "python",
   "name": "python3"
  },
  "language_info": {
   "codemirror_mode": {
    "name": "ipython",
    "version": 3
   },
   "file_extension": ".py",
   "mimetype": "text/x-python",
   "name": "python",
   "nbconvert_exporter": "python",
   "pygments_lexer": "ipython3",
   "version": "3.10.12"
  }
 },
 "nbformat": 4,
 "nbformat_minor": 2
}
