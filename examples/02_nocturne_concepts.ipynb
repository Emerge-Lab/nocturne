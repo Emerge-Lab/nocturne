{
 "cells": [
  {
   "attachments": {},
   "cell_type": "markdown",
   "metadata": {},
   "source": [
    "## Nocturne concepts\n",
    "\n",
    "This page introduces the most basic elements of nocturne. You can find further information about these [in Section 3 of the Nocturne paper](https://arxiv.org/abs/2206.09889).\n",
    "\n",
    "_Last update: 10/2023_"
   ]
  },
  {
   "cell_type": "code",
   "execution_count": 1,
   "metadata": {},
   "outputs": [],
   "source": [
    "import numpy as np\n",
    "\n",
    "import os\n",
    "os.chdir('..')\n",
    "\n",
    "data_path = '/home/aarav/nocturne_lab/data_new/train_no_tl/tfrecord-00000-of-01000_26.json'"
   ]
  },
  {
   "attachments": {},
   "cell_type": "markdown",
   "metadata": {},
   "source": [
    "### Summary\n",
    "\n",
    "- Nocturne simulations are **discretized traffic scenarios**. A scenario is a constructed snapshot of traffic situation at a particular timepoint.\n",
    "- The state of the vehicle of focus is referred to as the **ego state**. Each vehicle has their **own partial view of the traffic scene**; and a visible state is constructed by parameterizing the view distance, head angle and cone radius of the driver. The action for each vehicle is a `(1, 3)` tuple with the acceleration, steering and head angle of the vehicle. \n",
    "- The **step method advances the simulation** with a desired step size. By default, the dynamics of vehicles are driven by a kinematic bicycle model. If a vehicle is set to expert-controlled mode, its position, heading, and speed will be updated according to a trajectory recorded from a human driver."
   ]
  },
  {
   "attachments": {},
   "cell_type": "markdown",
   "metadata": {},
   "source": [
    "### Simulation\n",
    "\n",
    "In Nocturne, a simulation discretizes an existing traffic scenario. At the moment, Nocturne supports traffic scenarios from the Waymo Open Dataset, but can be further extended to work with other driving datasets. \n",
    "\n",
    "<figure>\n",
    "<center>\n",
    "<img src='https://drive.google.com/uc?id=1nv5Rbyf7ZfdqTdaUduXvEI7ncdkLpDjc' width=650'/>\n",
    "<figcaption></figcaption>An example of a set of traffic scenario's in Nocturne. Upon initialization, a start time is chosen. After each iteration we take a step in the simulation, which gets us to the next scenario. This is done until we reach the end of the simulation. </center>\n",
    "</figure>\n",
    "\n",
    "We show an example of this using `example_scenario.json`, where our traffic data is extracted from the Waymo open motion dataset:"
   ]
  },
  {
   "cell_type": "code",
   "execution_count": 2,
   "metadata": {},
   "outputs": [],
   "source": [
    "from nocturne import Simulation\n",
    "import nocturne\n",
    "\n",
    "scenario_config = {'start_time': 0,\n",
    " 'allow_non_vehicles': False,\n",
    " 'moving_threshold': 0.2,\n",
    " 'speed_threshold': 0.05,\n",
    " 'max_visible_objects': 16,\n",
    " 'max_visible_road_points': 500,\n",
    " 'max_visible_traffic_lights': 0,\n",
    " 'max_visible_stop_signs': 4,\n",
    " 'sample_every_n': 1,\n",
    " 'road_edge_first': False,\n",
    " 'invalid_position': -10000.0,\n",
    " 'context_length': 10}\n",
    "\n",
    "# Create simulation\n",
    "sim = Simulation(data_path, scenario_config)"
   ]
  },
  {
   "attachments": {},
   "cell_type": "markdown",
   "metadata": {},
   "source": [
    "### Scenario\n",
    "\n",
    "A simulation consists of a set of scenarios. A scenario is a snapshot of the traffic scene at a particular timepoint. \n",
    "\n",
    "Here is how to create a scenario object:"
   ]
  },
  {
   "cell_type": "code",
   "execution_count": 3,
   "metadata": {},
   "outputs": [],
   "source": [
    "# Get traffic scenario at timepoint\n",
    "scenario = sim.getScenario()"
   ]
  },
  {
   "attachments": {},
   "cell_type": "markdown",
   "metadata": {},
   "source": [
    "The `scenario` objects holds information we are interested in. Here are a couple of examples:"
   ]
  },
  {
   "cell_type": "code",
   "execution_count": 4,
   "metadata": {},
   "outputs": [
    {
     "data": {
      "text/plain": [
       "22"
      ]
     },
     "execution_count": 4,
     "metadata": {},
     "output_type": "execute_result"
    }
   ],
   "source": [
    "# The number of road objects in the scene\n",
    "len(scenario.getObjects())"
   ]
  },
  {
   "cell_type": "code",
   "execution_count": 5,
   "metadata": {},
   "outputs": [
    {
     "name": "stdout",
     "output_type": "stream",
     "text": [
      "Total # moving objects: 2\n",
      "\n",
      "Object IDs of moving vehicles: \n",
      " [0, 22] \n"
     ]
    }
   ],
   "source": [
    "# The road objects that moved at a particular timepoint\n",
    "objects_that_moved = scenario.getObjectsThatMoved()\n",
    "\n",
    "print(f'Total # moving objects: {len(objects_that_moved)}\\n')\n",
    "print(f'Object IDs of moving vehicles: \\n {[obj.getID() for obj in objects_that_moved]} ')"
   ]
  },
  {
   "cell_type": "code",
   "execution_count": 6,
   "metadata": {},
   "outputs": [
    {
     "data": {
      "text/plain": [
       "136"
      ]
     },
     "execution_count": 6,
     "metadata": {},
     "output_type": "execute_result"
    }
   ],
   "source": [
    "# Number of road lines\n",
    "len(scenario.road_lines())"
   ]
  },
  {
   "cell_type": "code",
   "execution_count": 7,
   "metadata": {},
   "outputs": [
    {
     "data": {
      "text/plain": [
       "[<nocturne_cpp.Vehicle at 0x7fda5415aef0>,\n",
       " <nocturne_cpp.Vehicle at 0x7fda54376e30>,\n",
       " <nocturne_cpp.Vehicle at 0x7fda540cdcf0>,\n",
       " <nocturne_cpp.Vehicle at 0x7fda540cee70>,\n",
       " <nocturne_cpp.Vehicle at 0x7fda542ed2b0>]"
      ]
     },
     "execution_count": 7,
     "metadata": {},
     "output_type": "execute_result"
    }
   ],
   "source": [
    "scenario.getVehicles()[:5]"
   ]
  },
  {
   "cell_type": "code",
   "execution_count": 8,
   "metadata": {},
   "outputs": [
    {
     "data": {
      "text/plain": [
       "[]"
      ]
     },
     "execution_count": 8,
     "metadata": {},
     "output_type": "execute_result"
    }
   ],
   "source": [
    "# No cyclists in this scene\n",
    "scenario.getCyclists()"
   ]
  },
  {
   "cell_type": "code",
   "execution_count": 9,
   "metadata": {},
   "outputs": [
    {
     "name": "stdout",
     "output_type": "stream",
     "text": [
      "Found 2 moving vehicles in scene: [0, 22]\n"
     ]
    }
   ],
   "source": [
    "# Select all moving vehicles that move \n",
    "moving_vehicles = [obj for obj in scenario.getVehicles() if obj in objects_that_moved]\n",
    "\n",
    "print(f'Found {len(moving_vehicles)} moving vehicles in scene: {[vehicle.getID() for vehicle in moving_vehicles]}')"
   ]
  },
  {
   "attachments": {},
   "cell_type": "markdown",
   "metadata": {},
   "source": [
    "#### Ego state\n",
    "\n",
    "The **ego state** is an array with features that describe the current vehicle. This array holds the following information: \n",
    "- 0: length of ego vehicle\n",
    "- 1: width of ego vehicle\n",
    "- 2: speed of ego vehicle\n",
    "- 3: distance to the goal position of ego vehicle\n",
    "- 4: angle to the goal (target azimuth) \n",
    "- 5: desired heading at goal position\n",
    "- 6: desired speed at goal position\n",
    "- 7: current acceleration\n",
    "- 8: current steering position\n",
    "- 9: current head angle"
   ]
  },
  {
   "cell_type": "code",
   "execution_count": 10,
   "metadata": {},
   "outputs": [
    {
     "name": "stdout",
     "output_type": "stream",
     "text": [
      "Selected vehicle # 0\n"
     ]
    },
    {
     "data": {
      "text/plain": [
       "array([ 4.7061267e+00,  2.0392094e+00,  7.9367871e+00,  8.2948776e+01,\n",
       "       -2.7723074e-02,  2.8944016e-03,  6.3417783e+00,  0.0000000e+00,\n",
       "        0.0000000e+00,  0.0000000e+00], dtype=float32)"
      ]
     },
     "execution_count": 10,
     "metadata": {},
     "output_type": "execute_result"
    }
   ],
   "source": [
    "# Select an arbitrary vehicle\n",
    "ego_vehicle = moving_vehicles[0]\n",
    "\n",
    "print(f'Selected vehicle # {ego_vehicle.getID()}')\n",
    "# Get the state for ego vehicle\n",
    "scenario.ego_state(ego_vehicle)"
   ]
  },
  {
   "cell_type": "code",
   "execution_count": 4,
   "metadata": {},
   "outputs": [],
   "source": [
    "# sim.reset()\n",
    "vehicles = sim.scenario().getVehicles()\n",
    "selected_vehicle = None \n",
    "for vehicle in vehicles:\n",
    "    vehicle.expert_control = True\n",
    "    if vehicle.is_av:\n",
    "        selected_vehicle = vehicle"
   ]
  },
  {
   "cell_type": "code",
   "execution_count": 10,
   "metadata": {},
   "outputs": [
    {
     "data": {
      "text/plain": [
       "4.614005088806152"
      ]
     },
     "execution_count": 10,
     "metadata": {},
     "output_type": "execute_result"
    }
   ],
   "source": [
    "selected_vehicle.speed"
   ]
  },
  {
   "cell_type": "code",
   "execution_count": 5,
   "metadata": {},
   "outputs": [
    {
     "name": "stdout",
     "output_type": "stream",
     "text": [
      "(-2024.531372, 1938.422974)\n",
      "(-2024.531372, 1938.422974)\n",
      "8.959397315979004\n",
      "(-2025.097534, 1937.725098)\n",
      "9.00632095336914\n",
      "(-2025.664429, 1937.022217)\n",
      "9.056662559509277\n",
      "(-2026.236084, 1936.316162)\n",
      "9.10050106048584\n",
      "(-2026.811035, 1935.608643)\n",
      "9.122190475463867\n",
      "(-2027.387451, 1934.900513)\n",
      "9.1351900100708\n",
      "(-2027.964600, 1934.191284)\n",
      "9.13282299041748\n",
      "(-2028.541382, 1933.484009)\n",
      "9.118290901184082\n",
      "(-2029.119507, 1932.779297)\n",
      "9.081892967224121\n",
      "(-2029.692871, 1932.078735)\n",
      "9.016717910766602\n",
      "(-2030.264771, 1931.385864)\n",
      "8.940187454223633\n",
      "(-2030.834229, 1930.701782)\n",
      "8.844352722167969\n",
      "(-2031.395996, 1930.025391)\n",
      "8.741381645202637\n",
      "(-2031.953247, 1929.358154)\n",
      "8.645845413208008\n",
      "(-2032.504517, 1928.697754)\n",
      "8.553829193115234\n",
      "(-2033.050903, 1928.045410)\n",
      "8.449153900146484\n",
      "(-2033.588501, 1927.400513)\n",
      "8.318026542663574\n",
      "(-2034.117676, 1926.767822)\n",
      "8.171351432800293\n",
      "(-2034.638550, 1926.147705)\n",
      "8.029203414916992\n",
      "(-2035.150146, 1925.537476)\n",
      "7.883921146392822\n",
      "(-2035.651245, 1924.938232)\n",
      "7.732696056365967\n",
      "(-2036.144531, 1924.352051)\n",
      "7.5853424072265625\n",
      "(-2036.625732, 1923.775146)\n",
      "7.432258129119873\n",
      "(-2037.097534, 1923.210815)\n",
      "7.266041278839111\n",
      "(-2037.558350, 1922.660156)\n",
      "7.106821060180664\n",
      "(-2038.008545, 1922.119629)\n",
      "6.953187465667725\n",
      "(-2038.447388, 1921.590698)\n",
      "6.78836727142334\n",
      "(-2038.875977, 1921.075195)\n",
      "6.620250701904297\n",
      "(-2039.294312, 1920.573120)\n",
      "6.447519779205322\n",
      "(-2039.701416, 1920.084351)\n",
      "6.276500225067139\n",
      "(-2040.095947, 1919.607056)\n",
      "6.11001443862915\n",
      "(-2040.481567, 1919.144043)\n",
      "5.941588401794434\n",
      "(-2040.856201, 1918.693970)\n",
      "5.776678085327148\n",
      "(-2041.218872, 1918.254761)\n",
      "5.627242088317871\n",
      "(-2041.572266, 1917.826050)\n",
      "5.4735188484191895\n",
      "(-2041.912109, 1917.408081)\n",
      "5.305953025817871\n",
      "(-2042.236206, 1916.999390)\n",
      "5.160252571105957\n",
      "(-2042.547852, 1916.596802)\n",
      "5.049590587615967\n",
      "(-2042.846924, 1916.196899)\n",
      "4.945206642150879\n",
      "(-2043.132935, 1915.801636)\n",
      "4.841558933258057\n",
      "(-2043.404175, 1915.407715)\n",
      "4.753961563110352\n",
      "(-2043.661743, 1915.014648)\n",
      "4.677990436553955\n",
      "(-2043.904175, 1914.620361)\n",
      "4.610350608825684\n",
      "(-2044.135376, 1914.227173)\n",
      "4.548369407653809\n",
      "(-2044.357544, 1913.835449)\n",
      "4.494410991668701\n",
      "(-2044.571777, 1913.444580)\n",
      "4.435678005218506\n",
      "(-2044.776855, 1913.056274)\n",
      "4.368709087371826\n",
      "(-2044.967407, 1912.668091)\n",
      "4.09483003616333\n",
      "(-2045.123657, 1912.317383)\n",
      "4.03572416305542\n",
      "(-2045.281860, 1911.928345)\n",
      "4.175286293029785\n",
      "(-2045.423462, 1911.541748)\n",
      "4.096896648406982\n",
      "(-2045.551758, 1911.158081)\n",
      "4.035443305969238\n",
      "(-2045.659668, 1910.773804)\n",
      "3.993016004562378\n",
      "(-2045.749512, 1910.388672)\n",
      "3.951996088027954\n",
      "(-2045.821655, 1910.004761)\n",
      "3.916038990020752\n",
      "(-2045.875122, 1909.620117)\n",
      "3.891794443130493\n",
      "(-2045.914062, 1909.236450)\n",
      "3.887885332107544\n",
      "(-2045.929565, 1908.849609)\n",
      "3.9007515907287598\n",
      "(-2045.926270, 1908.461792)\n",
      "3.8965468406677246\n",
      "(-2045.905151, 1908.075928)\n",
      "3.893411636352539\n",
      "(-2045.864990, 1907.690918)\n",
      "3.913851261138916\n",
      "(-2045.800293, 1907.306152)\n",
      "3.935575008392334\n",
      "(-2045.721191, 1906.923218)\n",
      "3.9347705841064453\n",
      "(-2045.627197, 1906.544556)\n",
      "3.7342865467071533\n",
      "(-2045.522217, 1906.209106)\n",
      "3.738015651702881\n",
      "(-2045.388184, 1905.842163)\n",
      "3.957831382751465\n",
      "(-2045.232666, 1905.479126)\n",
      "3.9941670894622803\n",
      "(-2045.057617, 1905.122070)\n",
      "4.028872966766357\n",
      "(-2044.866333, 1904.768921)\n",
      "4.055003643035889\n",
      "(-2044.658203, 1904.423950)\n",
      "4.046546936035156\n",
      "(-2044.438354, 1904.089478)\n",
      "4.045049667358398\n",
      "(-2044.203125, 1903.762451)\n",
      "4.071310043334961\n",
      "(-2043.957153, 1903.440063)\n",
      "4.090494632720947\n",
      "(-2043.701538, 1903.123413)\n",
      "4.092506408691406\n",
      "(-2043.432129, 1902.819458)\n",
      "4.080843925476074\n",
      "(-2043.154907, 1902.524414)\n",
      "4.060359477996826\n",
      "(-2042.874390, 1902.235962)\n",
      "4.0487823486328125\n",
      "(-2042.584229, 1901.956299)\n",
      "4.052197456359863\n",
      "(-2042.290527, 1901.679565)\n",
      "3.8442676067352295\n",
      "(-2042.024414, 1901.434326)\n",
      "3.831355094909668\n",
      "(-2041.722534, 1901.170166)\n",
      "4.033596992492676\n",
      "(-2041.416138, 1900.909302)\n",
      "4.043627738952637\n",
      "(-2041.108521, 1900.648071)\n",
      "4.050570011138916\n",
      "(-2040.798584, 1900.388794)\n",
      "4.083592891693115\n",
      "(-2040.479614, 1900.130615)\n",
      "4.141969203948975\n",
      "(-2040.156982, 1899.867798)\n",
      "4.201643466949463\n",
      "(-2039.829102, 1899.601074)\n",
      "4.273824691772461\n",
      "(-2039.494141, 1899.330444)\n",
      "4.359555244445801\n",
      "(-2039.151733, 1899.054077)\n",
      "4.452497482299805\n",
      "(-2038.801514, 1898.772095)\n",
      "4.534414768218994\n",
      "[] []\n"
     ]
    }
   ],
   "source": [
    "expert_speeds = []\n",
    "actual_speeds = []\n",
    "expert_positions = []\n",
    "actual_positions = []\n",
    "\n",
    "# sim.reset()\n",
    "sim.reset()\n",
    "vehicles = sim.scenario().getVehicles()\n",
    "selected_vehicle = None\n",
    "for vehicle in vehicles:\n",
    "    vehicle.expert_control = True\n",
    "    if vehicle.is_av:\n",
    "        selected_vehicle = vehicle\n",
    "print(selected_vehicle.position)\n",
    "for i in range(90):\n",
    "    selected_vehicle.expert_control = True\n",
    "    # actual_speeds.append(selected_vehicle.speed)\n",
    "    # expert_speeds.append(sim.scenario().expert_speed(selected_vehicle, i))\n",
    "    # expert_positions.append(sim.scenario().expert_position(selected_vehicle, i))\n",
    "    # actual_positions.append(selected_vehicle.position)\n",
    "    print(selected_vehicle.position)\n",
    "    print(selected_vehicle.speed)\n",
    "    sim.step(0.1)\n",
    "    # selected_vehicle = sim.scenario().getVehicles()[selected_vehicle.getID() - 1]\n",
    "print(actual_positions[:5], actual_positions[-5:])"
   ]
  },
  {
   "cell_type": "code",
   "execution_count": 83,
   "metadata": {},
   "outputs": [
    {
     "data": {
      "text/plain": [
       "{acceleration: 0.503416, steering: -0.003650, head_angle: 0.000000}"
      ]
     },
     "execution_count": 83,
     "metadata": {},
     "output_type": "execute_result"
    }
   ],
   "source": [
    "i = 0\n",
    "sim.reset()\n",
    "sim.scenario().expert_action(selected_vehicle, i + 1)"
   ]
  },
  {
   "cell_type": "code",
   "execution_count": 13,
   "metadata": {},
   "outputs": [
    {
     "name": "stdout",
     "output_type": "stream",
     "text": [
      "[-0.006098364479839802, -0.005125005729496479, -0.004546718671917915, -0.00406677694991231, -0.002872019074857235]\n",
      "[-2030.318603515625, -2030.8988037109375, -2031.4761962890625, -2032.050048828125, -2032.6202392578125]\n"
     ]
    }
   ],
   "source": [
    "expert_action_speeds = []\n",
    "actual_action_speeds = []\n",
    "expert_action_steering = []\n",
    "actual_action_steering = []\n",
    "actual_positions = []\n",
    "sim.reset() \n",
    "selected_vehicle = sim.scenario().getVehicles()[selected_vehicle.getID() - 1]\n",
    "selected_vehicle.expert_control = False\n",
    "action = nocturne.Action()\n",
    "for i in range(90):\n",
    "    action_ = sim.scenario().expert_action(selected_vehicle, i)\n",
    "    action.acceleration = action_.acceleration\n",
    "    action.steering = action_.steering\n",
    "    action.head_angle = action_.head_angle\n",
    "    selected_vehicle.apply_action(action)\n",
    "    expert_action_speeds.append(sim.scenario().expert_speed(selected_vehicle, i))\n",
    "    actual_action_speeds.append(selected_vehicle.speed)\n",
    "    expert_action_steering.append(action.steering)\n",
    "    actual_action_steering.append(selected_vehicle.steering)\n",
    "    actual_positions.append(selected_vehicle.position.x)\n",
    "    sim.step(0.1)\n",
    "\n",
    "# print(expert_action_speeds[:5], actual_action_speeds[:5])\n",
    "print(actual_action_steering[10:15])\n",
    "print(actual_positions[10:15])"
   ]
  },
  {
   "cell_type": "code",
   "execution_count": 97,
   "metadata": {},
   "outputs": [],
   "source": [
    "selected_vehicle.expert_control = False\n",
    "\n",
    "action_ = sim.scenario().expert_action(selected_vehicle, i + 1)"
   ]
  },
  {
   "cell_type": "code",
   "execution_count": 98,
   "metadata": {},
   "outputs": [],
   "source": [
    "action_"
   ]
  },
  {
   "cell_type": "code",
   "execution_count": 63,
   "metadata": {},
   "outputs": [],
   "source": [
    "import nocturne"
   ]
  },
  {
   "cell_type": "code",
   "execution_count": 91,
   "metadata": {},
   "outputs": [
    {
     "data": {
      "text/plain": [
       "{acceleration: 0.503416, steering: -0.003650, head_angle: None}"
      ]
     },
     "execution_count": 91,
     "metadata": {},
     "output_type": "execute_result"
    }
   ],
   "source": [
    "action"
   ]
  },
  {
   "cell_type": "code",
   "execution_count": 92,
   "metadata": {},
   "outputs": [],
   "source": []
  },
  {
   "cell_type": "code",
   "execution_count": 93,
   "metadata": {},
   "outputs": [
    {
     "data": {
      "text/plain": [
       "{acceleration: 0.503416, steering: -0.003650, head_angle: 0.000000}"
      ]
     },
     "execution_count": 93,
     "metadata": {},
     "output_type": "execute_result"
    }
   ],
   "source": [
    "action"
   ]
  },
  {
   "cell_type": "code",
   "execution_count": 94,
   "metadata": {},
   "outputs": [],
   "source": [
    "selected_vehicle.apply_action(action)"
   ]
  },
  {
   "cell_type": "code",
   "execution_count": 51,
   "metadata": {},
   "outputs": [],
   "source": [
    "action = sim.scenario().getExpertAction(selected_vehicle, i + 1)"
   ]
  },
  {
   "attachments": {},
   "cell_type": "markdown",
   "metadata": {},
   "source": [
    "#### Visible state\n",
    "\n",
    "We use the ego vehicle state, together with a view distance (how far the vehicle can see) and a view angle to construct the **visible state**. The figure below shows this procedure for a simplified traffic scene. \n",
    "\n",
    "Calling `scenario.visible_state()` returns a dictionary with four matrices:\n",
    "- `stop_signs`: The visible stop signs \n",
    "- `traffic_lights`: The states for the traffic lights from the perspective of the ego driver(red, yellow, green).\n",
    "- `road_points`: The observable road points (static elements in the scene).\n",
    "- `objects`: The observable road objects (vehicles, pedestrians and cyclists).\n",
    "\n",
    "<figure>\n",
    "<center>\n",
    "<img src='https://drive.google.com/uc?id=1fG43NvPCzaimmW99asRdB73qY-F4u-q0' width='700'/>\n",
    "<figcaption>To investigate coordination under partial observability, agents in Nocturne can only see an obstructed view of their environment. In this simplified traffic scene, we construct the state for the red ego driver. Note that Nocturne assumes that stop signs can be viewed, even if they are behind another driver. </figcaption></center>\n",
    "</figure>\n",
    "\n",
    "\\begin{align*}\n",
    "\\end{align*}\n",
    "\n",
    "<figure>\n",
    "<center>\n",
    "<img src='https://drive.google.com/uc?id=1egNkFArE-n4cp6KbeoQyWeePiQ28jYYE' width='300'/>\n",
    "<figcaption>The same scene, this time showing the view of the yellow car.</figcaption></center>\n",
    "</figure>"
   ]
  },
  {
   "attachments": {},
   "cell_type": "markdown",
   "metadata": {},
   "source": [
    "The shape of the visible state is a function of the maximum number of visible objects defined at initialization (traffic lights, stop signs, road objects, and road points) and whether we add padding. If `padding = True`, an array is of size `(max visible objects, # features)` is always constructed, even if there are no visible objects. Otherwise, if `padding = False` new entries are only created when objects are visible. \n",
    "\n",
    "For example, say a vehicle does not observe any stop signs at a given timepoint. If we set `padding=False`, and run `visible_state['stop_signs']`, we'll get back an empty array with the shape `(0, 3)`, where 3 is the number of features per stop sign. However, if the vehicle observes two stop signs using the same setting, then `visible_state['stop_signs']` will return an array with the shape `(2, 3)`.\n",
    "\n",
    "On the other hand, if we set `padding=True`, the resulting array will always have a shape of `(max visible stop signs, 3)`, irrespective of how many stop signs the vehicle actually observes."
   ]
  },
  {
   "cell_type": "code",
   "execution_count": 13,
   "metadata": {},
   "outputs": [
    {
     "data": {
      "text/plain": [
       "dict_keys(['stop_signs', 'traffic_lights', 'road_points', 'objects'])"
      ]
     },
     "execution_count": 13,
     "metadata": {},
     "output_type": "execute_result"
    }
   ],
   "source": [
    "# Define viewing distance, radius and head angle\n",
    "view_distance = 80 \n",
    "view_angle = np.radians(120) \n",
    "head_angle = 0\n",
    "padding = True \n",
    "\n",
    "# Construct the visible state for ego vehicle\n",
    "visible_state = scenario.visible_state(\n",
    "    ego_vehicle, \n",
    "    view_dist=view_distance, \n",
    "    view_angle=view_angle,\n",
    "    head_angle=head_angle,\n",
    "    padding=padding,\n",
    ")\n",
    "\n",
    "visible_state.keys()"
   ]
  },
  {
   "cell_type": "code",
   "execution_count": 14,
   "metadata": {},
   "outputs": [
    {
     "data": {
      "text/plain": [
       "array([[0., 0., 0., 0., 0., 0., 0., 0., 0., 0.],\n",
       "       [0., 0., 0., 0., 0., 0., 0., 0., 0., 0.],\n",
       "       [0., 0., 0., 0., 0., 0., 0., 0., 0., 0.]], dtype=float32)"
      ]
     },
     "execution_count": 14,
     "metadata": {},
     "output_type": "execute_result"
    }
   ],
   "source": [
    "# There are no visible stop signs at this point\n",
    "visible_state['stop_signs'].T"
   ]
  },
  {
   "cell_type": "code",
   "execution_count": 15,
   "metadata": {},
   "outputs": [
    {
     "data": {
      "text/plain": [
       "array([[0., 0., 0., 0., 0., 0., 0., 0., 0., 0., 0., 0.],\n",
       "       [0., 0., 0., 0., 0., 0., 0., 0., 0., 0., 0., 0.],\n",
       "       [0., 0., 0., 0., 0., 0., 0., 0., 0., 0., 0., 0.],\n",
       "       [0., 0., 0., 0., 0., 0., 0., 0., 0., 0., 0., 0.],\n",
       "       [0., 0., 0., 0., 0., 0., 0., 0., 0., 0., 0., 0.],\n",
       "       [0., 0., 0., 0., 0., 0., 0., 0., 0., 0., 0., 0.],\n",
       "       [0., 0., 0., 0., 0., 0., 0., 0., 0., 0., 0., 0.],\n",
       "       [0., 0., 0., 0., 0., 0., 0., 0., 0., 0., 0., 0.],\n",
       "       [0., 0., 0., 0., 0., 0., 0., 0., 0., 0., 0., 0.],\n",
       "       [0., 0., 0., 0., 0., 0., 0., 0., 0., 0., 0., 0.]], dtype=float32)"
      ]
     },
     "execution_count": 15,
     "metadata": {},
     "output_type": "execute_result"
    }
   ],
   "source": [
    "# Traffic light states are filtered out in this version of Nocturne\n",
    "visible_state['traffic_lights']"
   ]
  },
  {
   "cell_type": "code",
   "execution_count": 16,
   "metadata": {},
   "outputs": [
    {
     "data": {
      "text/plain": [
       "(10, 13)"
      ]
     },
     "execution_count": 16,
     "metadata": {},
     "output_type": "execute_result"
    }
   ],
   "source": [
    "# Max visible road points x 13 features\n",
    "visible_state['road_points'].shape"
   ]
  },
  {
   "cell_type": "code",
   "execution_count": 17,
   "metadata": {},
   "outputs": [
    {
     "data": {
      "text/plain": [
       "(10, 13)"
      ]
     },
     "execution_count": 17,
     "metadata": {},
     "output_type": "execute_result"
    }
   ],
   "source": [
    "# Number of visible road objects x 13 features \n",
    "visible_state['objects'].shape"
   ]
  },
  {
   "cell_type": "code",
   "execution_count": 18,
   "metadata": {},
   "outputs": [
    {
     "name": "stdout",
     "output_type": "stream",
     "text": [
      "Dimension flattened visible state: 410\n"
     ]
    }
   ],
   "source": [
    "visible_state_dim = sum([val.flatten().shape[0] for key, val in visible_state.items()])\n",
    "\n",
    "print(f'Dimension flattened visible state: {visible_state_dim}')"
   ]
  },
  {
   "cell_type": "code",
   "execution_count": 19,
   "metadata": {},
   "outputs": [
    {
     "data": {
      "text/plain": [
       "(410,)"
      ]
     },
     "execution_count": 19,
     "metadata": {},
     "output_type": "execute_result"
    }
   ],
   "source": [
    "# We can also flatten the visible state\n",
    "# flattened has padding: if we miss an object --> zeros\n",
    "visible_state_flat = scenario.flattened_visible_state(\n",
    "        ego_vehicle, \n",
    "        view_dist=view_distance, \n",
    "        view_angle=view_angle, \n",
    "        head_angle=head_angle,    \n",
    ")\n",
    "\n",
    "visible_state_flat.shape"
   ]
  },
  {
   "attachments": {},
   "cell_type": "markdown",
   "metadata": {},
   "source": [
    "Note that `.flattened_visible_state()` adds padding by default."
   ]
  },
  {
   "attachments": {},
   "cell_type": "markdown",
   "metadata": {},
   "source": [
    "### Step \n",
    "\n",
    "`step(dt)` is a method call on an instance of the Simulation class, where `dt` is a scalar that represents the length of each simulation timestep in seconds. It advances the simulation by one timestep, which can result in changes to the state of the simulation (for example, new positions of objects, updated velocities, etc.) based on the physical laws and rules defined in the simulation.\n",
    "\n",
    "In the Waymo dataset, the length of the expert data is 9 seconds, a step size of 0.1 is used to discretize each traffic scene. The first second is used as a warm-start, leaving the remaining 8 seconds (80 steps) for the simulation (Details in Section 3.3)."
   ]
  },
  {
   "cell_type": "code",
   "execution_count": 20,
   "metadata": {},
   "outputs": [],
   "source": [
    "dt = 0.1\n",
    "\n",
    "# Step the simulation\n",
    "sim.step(dt)"
   ]
  },
  {
   "attachments": {},
   "cell_type": "markdown",
   "metadata": {},
   "source": [
    "### Vehicle control\n",
    "\n",
    "By default, vehicles in Nocturne are driven by a **kinematic bicycle model**. This means that calling the `step(dt)` method evolves the dynamics of a vehicle according to the following set of equations (Appendix D in the paper):\n",
    "\n",
    "\\begin{align*}\n",
    "    \\textbf{position: } x_{t+1} &= x_t + \\dot{x} \\, \\Delta t \\\\\n",
    "    y_{t+1} &= y_t + \\dot{y} \\, \\Delta t \\\\\n",
    "    \\textbf{heading: } \\theta_{t+1} &= \\theta_t + \\dot{\\theta} \\, \\Delta t \\\\ \n",
    "    \\textbf{speed: } v_{t+1} &= \\text{clip}(v_t + \\dot{v} \\, \\Delta t, -v_{\\text{max}}, v_{\\text{max}}) \\\\\n",
    "\\end{align*}\n",
    "\n",
    "with\n",
    "\n",
    "\\begin{align*}\n",
    "    \\dot{v} &= a \\\\ \n",
    "    \\bar{v} &= \\text{clip}(v_t, + 0.5 \\, \\dot{v} \\, \\Delta \\, t ,\\, - v_{\\text{max}}, v_{\\text{max}}) \\\\\n",
    "    \\beta &= \\tan^{-1} \\left( \\frac{l_r \\tan (\\delta)}{L}  \\right) \\\\\n",
    "          &= \\tan^{-1} (0.5 \\tan(\\delta)) \\\\\n",
    "    \\dot{x} &= \\bar{v} \\cos (\\theta + \\beta) \\\\\n",
    "    \\dot{y} &= \\bar{v} \\sin (\\theta + \\beta) \\\\\n",
    "    \\dot{\\theta} &= \\frac{\\bar{v} \\cos (\\beta)\\tan(\\delta)}{L}\n",
    "\\end{align*}\n",
    "\n",
    "where $(x_t, y_t)$ is the position of a vehicle at time $t$, $\\theta_t$ is the vehicles heading angle, $a$ is the acceleration and $\\delta$ is the steering angle. Finally, $L$ is the length of the car and $l_r = 0.5L$ is the distance to the rear axle of the car.\n",
    "\n",
    "If we set a vehicle to be **expert-controlled** instead, it will follow the same path as the respective human driver. This means that when we call the `step(dt)` function, the vehicle's position, heading, and speed will be updated to match the next point in the recorded human trajectory."
   ]
  },
  {
   "cell_type": "code",
   "execution_count": 21,
   "metadata": {},
   "outputs": [
    {
     "data": {
      "text/plain": [
       "False"
      ]
     },
     "execution_count": 21,
     "metadata": {},
     "output_type": "execute_result"
    }
   ],
   "source": [
    "# By default, all vehicles are not expert controlled\n",
    "ego_vehicle.expert_control"
   ]
  },
  {
   "cell_type": "code",
   "execution_count": 22,
   "metadata": {},
   "outputs": [],
   "source": [
    "# Set a vehicle to be expert controlled:\n",
    "ego_vehicle.expert_control = True"
   ]
  },
  {
   "attachments": {},
   "cell_type": "markdown",
   "metadata": {},
   "source": [
    "---\n",
    "\n",
    "> **Pseudocode**: How `step(dt)` advances the simulation for every vehicle. Full code is implemented in [scenario.cc](https://github.com/facebookresearch/nocturne/blob/ae0a4e361457caf6b7e397675cc86f46161405ed/nocturne/cpp/src/scenario.cc#L264)\n",
    "\n",
    "---\n",
    "\n",
    "```Python\n",
    "for vehicle in vehicles:\n",
    "\n",
    "    if object is not expert controlled:\n",
    "        step vehicle dynamics following the kinematic bicycle model\n",
    "    \n",
    "    if vehicle is expert controlled:\n",
    "        get current time & vehicle idx\n",
    "        vehicle position = expert trajectories[vehicle_idx, time]\n",
    "        vehicle heading = expert headings[vehicle_idx, time]\n",
    "        vehicle speed = expert speeds[vehicle_idx, time]\n",
    "```"
   ]
  },
  {
   "attachments": {},
   "cell_type": "markdown",
   "metadata": {},
   "source": [
    "### Action space\n",
    "\n",
    "The action set for a vehicle consists of three components: acceleration, steering and the head angle. Actions are discretized based on a provided upper and lower bound.\n",
    "\n",
    "The experiments in the paper use:\n",
    "- 6 discrete actions for **acceleration** uniformly split between $[-3, 2] \\, \\frac{m}{s^2}$\n",
    "- 21 discrete actions for **steering** between $[-0.7, 0.7]$ radians \n",
    "- 5 discrete actions for **head tilt** between $[-1.6, 1.6]$ radians\n",
    "\n",
    "This is how you can access an expert action for a vehicle in Nocturne:"
   ]
  },
  {
   "cell_type": "code",
   "execution_count": 23,
   "metadata": {},
   "outputs": [
    {
     "data": {
      "text/plain": [
       "{acceleration: -0.224648, steering: -0.360994, head_angle: 0.000000}"
      ]
     },
     "execution_count": 23,
     "metadata": {},
     "output_type": "execute_result"
    }
   ],
   "source": [
    "# Choose an arbitrary timepoint\n",
    "time = 5\n",
    "\n",
    "# Show expert action at timepoint\n",
    "scenario.expert_action(ego_vehicle, time)"
   ]
  },
  {
   "cell_type": "code",
   "execution_count": 24,
   "metadata": {},
   "outputs": [],
   "source": [
    "expert_action = scenario.expert_action(ego_vehicle, time)\n",
    "\n",
    "expert_action = expert_action.numpy()"
   ]
  },
  {
   "cell_type": "code",
   "execution_count": 27,
   "metadata": {},
   "outputs": [],
   "source": [
    "acceleration = expert_action[0]\n",
    "steering = expert_action[1]"
   ]
  },
  {
   "cell_type": "code",
   "execution_count": 28,
   "metadata": {},
   "outputs": [
    {
     "data": {
      "text/plain": [
       "nocturne_cpp.Action"
      ]
     },
     "execution_count": 28,
     "metadata": {},
     "output_type": "execute_result"
    }
   ],
   "source": [
    "type(scenario.expert_action(ego_vehicle, time))"
   ]
  },
  {
   "cell_type": "code",
   "execution_count": 29,
   "metadata": {},
   "outputs": [
    {
     "data": {
      "text/plain": [
       "(-0.005859, 0.004639)"
      ]
     },
     "execution_count": 29,
     "metadata": {},
     "output_type": "execute_result"
    }
   ],
   "source": [
    "# How did the vehicle's position change after taking this action?\n",
    "scenario.expert_pos_shift(ego_vehicle, time)"
   ]
  },
  {
   "cell_type": "code",
   "execution_count": 30,
   "metadata": {},
   "outputs": [
    {
     "data": {
      "text/plain": [
       "-0.0007097125053405762"
      ]
     },
     "execution_count": 30,
     "metadata": {},
     "output_type": "execute_result"
    }
   ],
   "source": [
    "# How did the head angle change?\n",
    "scenario.expert_heading_shift(ego_vehicle, time)"
   ]
  }
 ],
 "metadata": {
  "kernelspec": {
   "display_name": "nocturne-research",
   "language": "python",
   "name": "python3"
  },
  "language_info": {
   "codemirror_mode": {
    "name": "ipython",
    "version": 3
   },
   "file_extension": ".py",
   "mimetype": "text/x-python",
   "name": "python",
   "nbconvert_exporter": "python",
   "pygments_lexer": "ipython3",
   "version": "3.11.5"
  },
  "orig_nbformat": 4
 },
 "nbformat": 4,
 "nbformat_minor": 2
}
