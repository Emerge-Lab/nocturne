{
 "cells": [
  {
   "cell_type": "markdown",
   "metadata": {},
   "source": [
    "## Basic RL usage"
   ]
  },
  {
   "cell_type": "markdown",
   "metadata": {},
   "source": [
    "### Initializing environments\n",
    "\n",
    "\n",
    "#### **Environment settings**\n",
    "\n",
    "- Initializing an environment is done with the `BaseEnv` class. The `BaseEnv` class leverages the `nocturne` simulator to create a basic RL interface, based on the provided traffic scenario(s). \n",
    "\n",
    "---\n",
    "> 📝 The `env_config.yaml` file defines our environment settings, such as the action space, observation space and traffic scenarios to use.\n",
    "---\n",
    "\n",
    "Check out `configs/env_config` for all the details!"
   ]
  },
  {
   "cell_type": "code",
   "execution_count": 4,
   "metadata": {},
   "outputs": [
    {
     "ename": "Exception",
     "evalue": "",
     "output_type": "error",
     "traceback": [
      "\u001b[0;31m---------------------------------------------------------------------------\u001b[0m",
      "\u001b[0;31mException\u001b[0m                                 Traceback (most recent call last)",
      "\u001b[1;32m/Users/dejongmathijs/Library/CloudStorage/OneDrive-TheBostonConsultingGroup,Inc/Documents/Personal/nocturne_lab/examples/03_basic_rl_usage.ipynb Cell 3\u001b[0m line \u001b[0;36m2\n\u001b[1;32m      <a href='vscode-notebook-cell:/Users/dejongmathijs/Library/CloudStorage/OneDrive-TheBostonConsultingGroup%2CInc/Documents/Personal/nocturne_lab/examples/03_basic_rl_usage.ipynb#W2sZmlsZQ%3D%3D?line=0'>1</a>\u001b[0m \u001b[39mimport\u001b[39;00m \u001b[39myaml\u001b[39;00m\n\u001b[0;32m----> <a href='vscode-notebook-cell:/Users/dejongmathijs/Library/CloudStorage/OneDrive-TheBostonConsultingGroup%2CInc/Documents/Personal/nocturne_lab/examples/03_basic_rl_usage.ipynb#W2sZmlsZQ%3D%3D?line=1'>2</a>\u001b[0m \u001b[39mfrom\u001b[39;00m \u001b[39mnocturne\u001b[39;00m\u001b[39m.\u001b[39;00m\u001b[39menvs\u001b[39;00m\u001b[39m.\u001b[39;00m\u001b[39mbase_env\u001b[39;00m \u001b[39mimport\u001b[39;00m BaseEnv\n\u001b[1;32m      <a href='vscode-notebook-cell:/Users/dejongmathijs/Library/CloudStorage/OneDrive-TheBostonConsultingGroup%2CInc/Documents/Personal/nocturne_lab/examples/03_basic_rl_usage.ipynb#W2sZmlsZQ%3D%3D?line=3'>4</a>\u001b[0m \u001b[39m# Load environment settings\u001b[39;00m\n\u001b[1;32m      <a href='vscode-notebook-cell:/Users/dejongmathijs/Library/CloudStorage/OneDrive-TheBostonConsultingGroup%2CInc/Documents/Personal/nocturne_lab/examples/03_basic_rl_usage.ipynb#W2sZmlsZQ%3D%3D?line=4'>5</a>\u001b[0m \u001b[39mwith\u001b[39;00m \u001b[39mopen\u001b[39m(\u001b[39mf\u001b[39m\u001b[39m\"\u001b[39m\u001b[39m../configs/env_config.yaml\u001b[39m\u001b[39m\"\u001b[39m, \u001b[39m\"\u001b[39m\u001b[39mr\u001b[39m\u001b[39m\"\u001b[39m) \u001b[39mas\u001b[39;00m stream:\n",
      "File \u001b[0;32m~/.pyenv-i386/versions/nocturne_lab/lib/python3.10/site-packages/nocturne/envs/__init__.py:2\u001b[0m\n\u001b[1;32m      1\u001b[0m \u001b[39m\"\"\"Import file for tests.\"\"\"\u001b[39;00m\n\u001b[0;32m----> 2\u001b[0m \u001b[39mfrom\u001b[39;00m \u001b[39mnocturne\u001b[39;00m\u001b[39m.\u001b[39;00m\u001b[39menvs\u001b[39;00m\u001b[39m.\u001b[39;00m\u001b[39mbase_env\u001b[39;00m \u001b[39mimport\u001b[39;00m BaseEnv\n\u001b[1;32m      4\u001b[0m __all__ \u001b[39m=\u001b[39m [\n\u001b[1;32m      5\u001b[0m     \u001b[39m\"\u001b[39m\u001b[39mBaseEnv\u001b[39m\u001b[39m\"\u001b[39m,\n\u001b[1;32m      6\u001b[0m ]\n",
      "File \u001b[0;32m~/.pyenv-i386/versions/nocturne_lab/lib/python3.10/site-packages/nocturne/envs/base_env.py:24\u001b[0m\n\u001b[1;32m     20\u001b[0m \u001b[39mfrom\u001b[39;00m \u001b[39mgym\u001b[39;00m\u001b[39m.\u001b[39;00m\u001b[39mspaces\u001b[39;00m \u001b[39mimport\u001b[39;00m Box, Discrete\n\u001b[1;32m     22\u001b[0m \u001b[39mfrom\u001b[39;00m \u001b[39mnocturne\u001b[39;00m \u001b[39mimport\u001b[39;00m Action, Simulation, Vector2D, Vehicle\n\u001b[0;32m---> 24\u001b[0m \u001b[39mraise\u001b[39;00m \u001b[39mException\u001b[39;00m()\n\u001b[1;32m     26\u001b[0m _MAX_NUM_TRIES_TO_FIND_VALID_VEHICLE \u001b[39m=\u001b[39m \u001b[39m1_000\u001b[39m\n\u001b[1;32m     28\u001b[0m logging\u001b[39m.\u001b[39mgetLogger(\u001b[39m__name__\u001b[39m)\n",
      "\u001b[0;31mException\u001b[0m: "
     ]
    }
   ],
   "source": [
    "import yaml\n",
    "from nocturne.envs.base_env import BaseEnv\n",
    "\n",
    "import os\n",
    "os.chdir('..')\n",
    "\n",
    "# Load environment settings\n",
    "with open(f\"./configs/env_config.yaml\", \"r\") as stream:\n",
    "    env_config = yaml.safe_load(stream)\n",
    "\n",
    "# Initialize environment\n",
    "env = BaseEnv(config=env_config)"
   ]
  },
  {
   "cell_type": "code",
   "execution_count": null,
   "metadata": {},
   "outputs": [],
   "source": [
    "print(f'controlling agents # {[agent.id for agent in env.controlled_vehicles]}')"
   ]
  },
  {
   "cell_type": "markdown",
   "metadata": {},
   "source": [
    "#### **Data**\n",
    "\n",
    "- Within `env_config.yaml`, we specify the path to the folder containing the traffic scenarios to use as follows:\n",
    "\n",
    "```yaml\n",
    "# Path to folder with traffic scene(s) from which to create an environment\n",
    "data_path: ../data\n",
    "```\n",
    "\n",
    "- [Here](https://github.com/facebookresearch/nocturne/tree/main#downloading-the-dataset) are the instructions to access the complete dataset of traffic scenes. \n",
    "\n",
    "- The data folder also has a file named `valid_files.json`. This file lists the names of all the valid traffic scenarios along with the ids of the vehicles that are not valid. These vehicles are excluded from our experiment.\n",
    "\n",
    "For simplicity, we currently added a single traffic scenario that includes two vehicles in our data folder. Both vehicles can be used, so our `valid_files.json` looks like this:\n",
    "\n",
    "```yaml\n",
    "{\n",
    "    \"example_scenario.json\": []\n",
    "}\n",
    "```"
   ]
  },
  {
   "cell_type": "markdown",
   "metadata": {},
   "source": [
    "### Interacting with the environment\n",
    "\n",
    "The classic agent-environment loop of reinforcement learning is implemented as follows:"
   ]
  },
  {
   "cell_type": "code",
   "execution_count": null,
   "metadata": {},
   "outputs": [],
   "source": [
    "# Reset\n",
    "obs_dict = env.reset()\n",
    "\n",
    "# Get info\n",
    "agent_ids = [agent_id for agent_id in obs_dict.keys()]\n",
    "dead_agent_ids = []\n",
    "num_agents = len(agent_ids)\n",
    "rewards = {agent_id: 0 for agent_id in agent_ids}\n",
    "\n",
    "for step in range(1000):\n",
    "\n",
    "    # Sample actions\n",
    "    action_dict = {\n",
    "        agent_id: env.action_space.sample() \n",
    "        for agent_id in agent_ids\n",
    "        if agent_id not in dead_agent_ids\n",
    "    }\n",
    "    \n",
    "    # Step in env\n",
    "    obs_dict, rew_dict, done_dict, info_dict = env.step(action_dict)\n",
    "\n",
    "    for agent_id in action_dict.keys():\n",
    "        rewards[agent_id] += rew_dict[agent_id]\n",
    "\n",
    "    # Update dead agents\n",
    "    for agent_id, is_done in done_dict.items():\n",
    "        if is_done and agent_id not in dead_agent_ids:\n",
    "            dead_agent_ids.append(agent_id)\n",
    "\n",
    "    # Reset if all agents are done\n",
    "    if done_dict[\"__all__\"]:\n",
    "        print(f'Done after {env.step_num} steps -- total return in episode: {rewards}')\n",
    "        obs_dict = env.reset()\n",
    "        dead_agent_ids = []\n",
    "        rewards = {agent_id: 0 for agent_id in agent_ids}\n",
    "\n",
    "# Close environment\n",
    "env.close()"
   ]
  },
  {
   "cell_type": "markdown",
   "metadata": {},
   "source": [
    "### Accessing information about the environment"
   ]
  },
  {
   "cell_type": "code",
   "execution_count": null,
   "metadata": {},
   "outputs": [],
   "source": [
    "# The observation space \n",
    "env.observation_space\n"
   ]
  },
  {
   "cell_type": "code",
   "execution_count": null,
   "metadata": {},
   "outputs": [],
   "source": [
    "# The size of the joint action space \n",
    "env.action_space\n"
   ]
  },
  {
   "cell_type": "code",
   "execution_count": null,
   "metadata": {},
   "outputs": [],
   "source": [
    "# Which agents are controlled?\n",
    "env.controlled_vehicles"
   ]
  },
  {
   "cell_type": "markdown",
   "metadata": {},
   "source": [
    "### \n"
   ]
  }
 ],
 "metadata": {
  "kernelspec": {
   "display_name": "Python 3",
   "language": "python",
   "name": "python3"
  },
  "language_info": {
   "codemirror_mode": {
    "name": "ipython",
    "version": 3
   },
   "file_extension": ".py",
   "mimetype": "text/x-python",
   "name": "python",
   "nbconvert_exporter": "python",
   "pygments_lexer": "ipython3",
   "version": "3.10.12"
  },
  "orig_nbformat": 4
 },
 "nbformat": 4,
 "nbformat_minor": 2
}
