{
 "cells": [
  {
   "cell_type": "markdown",
   "metadata": {},
   "source": [
    "## Basic RL usage"
   ]
  },
  {
   "cell_type": "markdown",
   "metadata": {},
   "source": [
    "### Initializing environments\n",
    "\n",
    "\n",
    "#### **Environment settings**\n",
    "\n",
    "- Initializing an environment is done with the `BaseEnv` class. The `BaseEnv` class leverages the `nocturne` simulator to create a basic RL interface, based on the provided traffic scenario(s). \n",
    "\n",
    "---\n",
    "> 📝 The `env_config.yaml` file defines our environment settings, such as the action space, observation space and traffic scenarios to use.\n",
    "---\n",
    "\n",
    "Check out `configs/env_config` for all the details!"
   ]
  },
  {
   "cell_type": "code",
   "execution_count": 1,
   "metadata": {},
   "outputs": [],
   "source": [
    "import yaml\n",
    "from nocturne.envs.base_env import BaseEnv\n",
    "\n",
    "# Load environment settings\n",
    "with open(f\"../configs/env_config.yaml\", \"r\") as stream:\n",
    "    env_config = yaml.safe_load(stream)\n",
    "\n",
    "# Initialize environment\n",
    "env = BaseEnv(config=env_config)"
   ]
  },
  {
   "cell_type": "code",
   "execution_count": 2,
   "metadata": {},
   "outputs": [],
   "source": [
    "# print(f'controlling agents # {[agent.id for agent in env.controlled_vehicles]}')"
   ]
  },
  {
   "cell_type": "markdown",
   "metadata": {},
   "source": [
    "#### **Data**\n",
    "\n",
    "- Within `env_config.yaml`, we specify the path to the folder containing the traffic scenarios to use as follows:\n",
    "\n",
    "```yaml\n",
    "# Path to folder with traffic scene(s) from which to create an environment\n",
    "data_path: ../data\n",
    "```\n",
    "\n",
    "- [Here](https://github.com/facebookresearch/nocturne/tree/main#downloading-the-dataset) are the instructions to access the complete dataset of traffic scenes. \n",
    "\n",
    "- The data folder also has a file named `valid_files.json`. This file lists the names of all the valid traffic scenarios along with the ids of the vehicles that are not valid. These vehicles are excluded from our experiment.\n",
    "\n",
    "For simplicity, we currently added a single traffic scenario that includes two vehicles in our data folder. Both vehicles can be used, so our `valid_files.json` looks like this:\n",
    "\n",
    "```yaml\n",
    "{\n",
    "    \"example_scenario.json\": []\n",
    "}\n",
    "```"
   ]
  },
  {
   "cell_type": "markdown",
   "metadata": {},
   "source": [
    "### Interacting with the environment\n",
    "\n",
    "The classic agent-environment loop of reinforcement learning is implemented as follows:"
   ]
  },
  {
   "cell_type": "code",
   "execution_count": null,
   "metadata": {},
   "outputs": [
    {
     "name": "stdout",
     "output_type": "stream",
     "text": [
      "Done after 59 steps -- total return in episode: {32: 1.5747571914323322, 3: 9.25963410107766}\n",
      "Done after 80 steps -- total return in episode: {32: 1.206487106774924, 3: 1.6889441824899085}\n",
      "Done after 80 steps -- total return in episode: {32: 1.934774619800998, 3: 1.0208946524543212}\n",
      "Done after 80 steps -- total return in episode: {32: 1.9646733229254925, 3: 1.8587356656074443}\n",
      "Done after 80 steps -- total return in episode: {32: 1.4761226420391316, 3: 0.3522416834987802}\n",
      "Done after 80 steps -- total return in episode: {32: 1.445256149499786, 3: 0.6092487673722569}\n",
      "Done after 80 steps -- total return in episode: {32: 1.9309001314692815, 3: 9.773953004318374}\n",
      "Done after 80 steps -- total return in episode: {32: 1.8236653784619954, 3: 1.1099516594531538}\n",
      "Done after 80 steps -- total return in episode: {32: 1.1870601601481632, 3: 1.8450600904302619}\n",
      "Done after 41 steps -- total return in episode: {32: 0.9114894044420977, 3: 9.040241208859998}\n",
      "Done after 80 steps -- total return in episode: {32: 2.137444672583642, 3: 1.8198113022740796}\n",
      "Done after 78 steps -- total return in episode: {32: 1.167259697692483, 3: 9.84598803477196}\n",
      "Done after 80 steps -- total return in episode: {32: 1.3871681184919291, 3: 0.3495116123816799}\n"
     ]
    }
   ],
   "source": [
    "# Reset\n",
    "obs_dict = env.reset()\n",
    "\n",
    "# Get info\n",
    "agent_ids = [agent_id for agent_id in obs_dict.keys()]\n",
    "dead_agent_ids = []\n",
    "num_agents = len(agent_ids)\n",
    "rewards = {agent_id: 0 for agent_id in agent_ids}\n",
    "\n",
    "for step in range(1):\n",
    "\n",
    "    # Sample actions\n",
    "    action_dict = {\n",
    "        agent_id: env.action_space.sample() \n",
    "        for agent_id in agent_ids\n",
    "        if agent_id not in dead_agent_ids\n",
    "    }\n",
    "    \n",
    "    # Step in env\n",
    "    obs_dict, rew_dict, done_dict, info_dict = env.step(action_dict)\n",
    "\n",
    "    for agent_id in action_dict.keys():\n",
    "        rewards[agent_id] += rew_dict[agent_id]\n",
    "\n",
    "    # Update dead agents\n",
    "    for agent_id, is_done in done_dict.items():\n",
    "        if is_done and agent_id not in dead_agent_ids:\n",
    "            dead_agent_ids.append(agent_id)\n",
    "\n",
    "    # Reset if all agents are done\n",
    "    if done_dict[\"__all__\"]:\n",
    "        print(f'Done after {env.step_num} steps -- total return in episode: {rewards}')\n",
    "        obs_dict = env.reset()\n",
    "        dead_agent_ids = []\n",
    "        rewards = {agent_id: 0 for agent_id in agent_ids}\n",
    "\n",
    "# Close environment\n",
    "env.close()"
   ]
  },
  {
   "cell_type": "markdown",
   "metadata": {},
   "source": [
    "### Accessing information about the environment"
   ]
  },
  {
   "cell_type": "code",
   "execution_count": null,
   "metadata": {},
   "outputs": [
    {
     "data": {
      "text/plain": [
       "['__annotations__',\n",
       " '__class__',\n",
       " '__class_getitem__',\n",
       " '__delattr__',\n",
       " '__dict__',\n",
       " '__dir__',\n",
       " '__doc__',\n",
       " '__enter__',\n",
       " '__eq__',\n",
       " '__exit__',\n",
       " '__format__',\n",
       " '__ge__',\n",
       " '__getattribute__',\n",
       " '__getstate__',\n",
       " '__gt__',\n",
       " '__hash__',\n",
       " '__init__',\n",
       " '__init_subclass__',\n",
       " '__le__',\n",
       " '__lt__',\n",
       " '__module__',\n",
       " '__ne__',\n",
       " '__new__',\n",
       " '__orig_bases__',\n",
       " '__parameters__',\n",
       " '__reduce__',\n",
       " '__reduce_ex__',\n",
       " '__repr__',\n",
       " '__setattr__',\n",
       " '__sizeof__',\n",
       " '__slots__',\n",
       " '__str__',\n",
       " '__subclasshook__',\n",
       " '__weakref__',\n",
       " '_get_obs_space_dim',\n",
       " '_is_protocol',\n",
       " '_np_random',\n",
       " '_render_settings',\n",
       " '_set_continuous_action_space',\n",
       " '_set_discrete_action_space',\n",
       " 'accel_grid',\n",
       " 'action_space',\n",
       " 'all_vehicle_ids',\n",
       " 'apply_actions',\n",
       " 'close',\n",
       " 'config',\n",
       " 'context_dict',\n",
       " 'controlled_vehicles',\n",
       " 'done_ids',\n",
       " 'file',\n",
       " 'files',\n",
       " 'get_observation',\n",
       " 'goal_dist_normalizers',\n",
       " 'idx_to_actions',\n",
       " 'metadata',\n",
       " 'normalize_ego_state',\n",
       " 'normalize_obs',\n",
       " 'np_random',\n",
       " 'observation_space',\n",
       " 'render',\n",
       " 'render_ego',\n",
       " 'render_features',\n",
       " 'render_mode',\n",
       " 'render_vehicle',\n",
       " 'reset',\n",
       " 'reward_range',\n",
       " 'scenario',\n",
       " 'seed',\n",
       " 'simulation',\n",
       " 'spec',\n",
       " 'steering_grid',\n",
       " 'step',\n",
       " 'step_num',\n",
       " 't',\n",
       " 'unwrapped',\n",
       " 'valid_veh_dict']"
      ]
     },
     "execution_count": 31,
     "metadata": {},
     "output_type": "execute_result"
    }
   ],
   "source": [
    "dir(env)"
   ]
  },
  {
   "cell_type": "code",
   "execution_count": null,
   "metadata": {},
   "outputs": [
    {
     "data": {
      "text/plain": [
       "['__class__',\n",
       " '__delattr__',\n",
       " '__dir__',\n",
       " '__doc__',\n",
       " '__eq__',\n",
       " '__format__',\n",
       " '__ge__',\n",
       " '__getattribute__',\n",
       " '__getstate__',\n",
       " '__gt__',\n",
       " '__hash__',\n",
       " '__init__',\n",
       " '__init_subclass__',\n",
       " '__le__',\n",
       " '__lt__',\n",
       " '__module__',\n",
       " '__ne__',\n",
       " '__new__',\n",
       " '__reduce__',\n",
       " '__reduce_ex__',\n",
       " '__repr__',\n",
       " '__setattr__',\n",
       " '__sizeof__',\n",
       " '__str__',\n",
       " '__subclasshook__',\n",
       " 'canCollide',\n",
       " 'check_collision',\n",
       " 'geometry_points',\n",
       " 'getGeometry',\n",
       " 'road_points',\n",
       " 'road_type']"
      ]
     },
     "execution_count": 32,
     "metadata": {},
     "output_type": "execute_result"
    }
   ],
   "source": [
    "dir(env.scenario.getRoadLines()[0])"
   ]
  },
  {
   "cell_type": "code",
   "execution_count": null,
   "metadata": {},
   "outputs": [
    {
     "data": {
      "text/plain": [
       "<RoadType.ROAD_EDGE: 3>"
      ]
     },
     "execution_count": 33,
     "metadata": {},
     "output_type": "execute_result"
    }
   ],
   "source": [
    "road = env.scenario.getRoadLines()[0]\n",
    "road.road_type"
   ]
  },
  {
   "cell_type": "code",
   "execution_count": null,
   "metadata": {},
   "outputs": [
    {
     "data": {
      "text/plain": [
       "(8205, 11831)"
      ]
     },
     "execution_count": 34,
     "metadata": {},
     "output_type": "execute_result"
    }
   ],
   "source": [
    "cnt = 0\n",
    "for road in env.scenario.getRoadLines():\n",
    "    if(road.road_type.value > 3):\n",
    "        # print(road.road_type)\n",
    "        continue\n",
    "    cnt += len(road.road_points())\n",
    "cnt2 = 0\n",
    "for road in env.scenario.getRoadLines():\n",
    "    if(road.road_type.value > 3):\n",
    "        # print(road.road_type)\n",
    "        continue\n",
    "    cnt2 += len(road.geometry_points())\n",
    "cnt, cnt2"
   ]
  },
  {
   "cell_type": "code",
   "execution_count": null,
   "metadata": {},
   "outputs": [
    {
     "ename": "TypeError",
     "evalue": "BaseEnv.get_observation() missing 1 required positional argument: 'veh_obj'",
     "output_type": "error",
     "traceback": [
      "\u001b[0;31m---------------------------------------------------------------------------\u001b[0m",
      "\u001b[0;31mTypeError\u001b[0m                                 Traceback (most recent call last)",
      "Cell \u001b[0;32mIn[35], line 2\u001b[0m\n\u001b[1;32m      1\u001b[0m cnt \u001b[38;5;241m=\u001b[39m \u001b[38;5;241m0\u001b[39m\n\u001b[0;32m----> 2\u001b[0m \u001b[38;5;28mdir\u001b[39m(\u001b[43menv\u001b[49m\u001b[38;5;241;43m.\u001b[39;49m\u001b[43mget_observation\u001b[49m\u001b[43m(\u001b[49m\u001b[43m)\u001b[49m)\n",
      "\u001b[0;31mTypeError\u001b[0m: BaseEnv.get_observation() missing 1 required positional argument: 'veh_obj'"
     ]
    }
   ],
   "source": [
    "cnt = 0\n",
    "dir(env.get_observation())"
   ]
  },
  {
   "cell_type": "code",
   "execution_count": null,
   "metadata": {},
   "outputs": [
    {
     "data": {
      "text/plain": [
       "Box(-inf, inf, (6730,), float32)"
      ]
     },
     "execution_count": 7,
     "metadata": {},
     "output_type": "execute_result"
    }
   ],
   "source": [
    "# The observation space \n",
    "env.observation_space\n"
   ]
  },
  {
   "cell_type": "code",
   "execution_count": null,
   "metadata": {},
   "outputs": [
    {
     "data": {
      "text/plain": [
       "Discrete(15)"
      ]
     },
     "execution_count": 8,
     "metadata": {},
     "output_type": "execute_result"
    }
   ],
   "source": [
    "# The size of the joint action space \n",
    "env.action_space\n"
   ]
  },
  {
   "cell_type": "code",
   "execution_count": null,
   "metadata": {},
   "outputs": [
    {
     "data": {
      "text/plain": [
       "[<nocturne_cpp.Vehicle at 0x7fa7a5efe4b0>,\n",
       " <nocturne_cpp.Vehicle at 0x7fa7a5efe2b0>]"
      ]
     },
     "execution_count": 9,
     "metadata": {},
     "output_type": "execute_result"
    }
   ],
   "source": [
    "# Which agents are controlled?\n",
    "env.controlled_vehicles"
   ]
  },
  {
   "cell_type": "markdown",
   "metadata": {},
   "source": [
    "### \n"
   ]
  }
 ],
 "metadata": {
  "kernelspec": {
   "display_name": "Python 3",
   "language": "python",
   "name": "python3"
  },
  "language_info": {
   "codemirror_mode": {
    "name": "ipython",
    "version": 3
   },
   "file_extension": ".py",
   "mimetype": "text/x-python",
   "name": "python",
   "nbconvert_exporter": "python",
   "pygments_lexer": "ipython3",
   "version": "3.11.5"
  },
  "orig_nbformat": 4
 },
 "nbformat": 4,
 "nbformat_minor": 2
}
