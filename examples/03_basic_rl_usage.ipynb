{
 "cells": [
  {
   "cell_type": "markdown",
   "metadata": {},
   "source": [
    "## Basic RL usage\n",
    "\n",
    "- ..\n",
    "- our basic environment configurations are specified in the env_config yaml file."
   ]
  },
  {
   "cell_type": "code",
   "execution_count": 2,
   "metadata": {},
   "outputs": [],
   "source": [
    "from importlib import reload\n",
    "import yaml\n",
    "import logging\n",
    "\n",
    "logging.basicConfig(level=logging.INFO)"
   ]
  },
  {
   "cell_type": "markdown",
   "metadata": {},
   "source": [
    "### Initializing environments\n",
    "\n",
    "Initializing an environment can be done with the `BaseEnv` class. This class uses the Nocturne simulator under the hood to create a basic RL interface based on a given traffic scenario (e.g. `example_scenario.json`).\n",
    "\n",
    "Note:\n",
    "\n",
    "---\n",
    "> ⚠️ The `env_config.yaml` file defines the action space, observation space, traffic scenarios we want to use, and more.\n",
    "---\n"
   ]
  },
  {
   "cell_type": "code",
   "execution_count": null,
   "metadata": {},
   "outputs": [],
   "source": [
    "from nocturne.envs.base_env import BaseEnv\n",
    "\n",
    "# Load environment settings\n",
    "with open(f\"../configs/env_config.yaml\", \"r\") as stream:\n",
    "    env_config = yaml.safe_load(stream)\n",
    "\n",
    "# Make environment\n",
    "env = BaseEnv(\n",
    "    config=env_config,\n",
    ")"
   ]
  },
  {
   "cell_type": "markdown",
   "metadata": {},
   "source": [
    "### Interacting with the environment\n",
    "\n",
    "The classic agent-environment loop of reinforcement learning is implemented as follows:"
   ]
  },
  {
   "cell_type": "code",
   "execution_count": null,
   "metadata": {},
   "outputs": [],
   "source": [
    "# Reset\n",
    "obs_dict = env.reset()\n",
    "agent_ids = [agent_id for agent_id in obs_dict.keys()]\n",
    "dead_agent_ids = []\n",
    "num_agents = len(agent_ids)\n",
    "\n",
    "for step in range(100):\n",
    "\n",
    "    # Sample actions\n",
    "    action_dict = {\n",
    "        agent_id: env.action_space.sample() \n",
    "        for agent_id in enumerate(agent_ids)\n",
    "        if agent_id not in dead_agent_ids\n",
    "    }\n",
    "\n",
    "    # Step in env\n",
    "    obs_dict, rew_dict, done_dict, info_dict = env.step(action_dict)\n",
    "\n",
    "    # Update dead agents\n",
    "    for agent_id, is_done in done_dict.items():\n",
    "        if is_done and agent_id not in dead_agent_ids:\n",
    "            dead_agent_ids.append(agent_id)\n",
    "\n",
    "    # Reset if all agents are done\n",
    "    if done_dict[\"__all__\"]:\n",
    "        obs_dict = env.reset()\n",
    "        dead_agent_ids = []\n",
    "\n",
    "env.close()"
   ]
  },
  {
   "cell_type": "markdown",
   "metadata": {},
   "source": [
    "\n",
    "---\n",
    "> ⚠️ The default env returns dictionaries \n",
    "---"
   ]
  },
  {
   "cell_type": "markdown",
   "metadata": {},
   "source": [
    "### Accessing information about the environment"
   ]
  },
  {
   "cell_type": "code",
   "execution_count": null,
   "metadata": {},
   "outputs": [],
   "source": [
    "env.observation_space\n"
   ]
  },
  {
   "cell_type": "code",
   "execution_count": null,
   "metadata": {},
   "outputs": [],
   "source": [
    "env.action_space\n"
   ]
  },
  {
   "cell_type": "markdown",
   "metadata": {},
   "source": [
    "### \n"
   ]
  }
 ],
 "metadata": {
  "kernelspec": {
   "display_name": "Python 3",
   "language": "python",
   "name": "python3"
  },
  "language_info": {
   "codemirror_mode": {
    "name": "ipython",
    "version": 3
   },
   "file_extension": ".py",
   "mimetype": "text/x-python",
   "name": "python",
   "nbconvert_exporter": "python",
   "pygments_lexer": "ipython3",
   "version": "3.10.12"
  },
  "orig_nbformat": 4
 },
 "nbformat": 4,
 "nbformat_minor": 2
}
