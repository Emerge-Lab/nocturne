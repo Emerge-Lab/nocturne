{
 "cells": [
  {
   "cell_type": "markdown",
   "metadata": {},
   "source": [
    "## PPO with single-agent control\n",
    "\n",
    "In this notebook, we show how to use Proximal Policy Optimization (PPO) with Nocturne and [Stable Baselines 3 (SB3)](https://stable-baselines3.readthedocs.io/en/master/index.html). SB3 is a library that has implementations of various well-known RL algorithms."
   ]
  },
  {
   "cell_type": "markdown",
   "metadata": {},
   "source": [
    "### Wrappers\n",
    "\n",
    "The Nocturne `BaseEnv` returns output as dictionaries, but the SB3 `PPO` class expects numpy arrays. To make our environment compatible with SB3, we create a wrapper class. Wrappers modify an environment without altering code directly, which reduces boilerplate and increasing modularity."
   ]
  },
  {
   "cell_type": "code",
   "execution_count": 3,
   "metadata": {},
   "outputs": [],
   "source": [
    "import wandb\n",
    "# Import base environment and wrapper\n",
    "from utils.config import load_config_nb\n",
    "from nocturne.envs.base_env import BaseEnv\n",
    "from nocturne.wrappers.sb3_wrappers import NocturneToSB3"
   ]
  },
  {
   "cell_type": "code",
   "execution_count": 7,
   "metadata": {},
   "outputs": [],
   "source": [
    "# Load environment settings\n",
    "env_config = load_config_nb('env_config')\n",
    "env_config.data_path = f'../{env_config.data_path}'\n",
    "\n",
    "# Make sure to only control a single agent at a time. This is achieved by setting max_num_vehicles = 1\n",
    "env_config[\"max_num_vehicles\"] = 1"
   ]
  },
  {
   "cell_type": "code",
   "execution_count": 8,
   "metadata": {},
   "outputs": [],
   "source": [
    "# Initialize env and wrap it with SB3 wrapper\n",
    "env = NocturneToSB3(BaseEnv(env_config))"
   ]
  },
  {
   "cell_type": "markdown",
   "metadata": {},
   "source": [
    "### PPO\n",
    "\n",
    "Now all we have to do is initialize the SB3 `PPO` class and we're ready to learn! We use Weights & Biases (`wandb`) to take care of the logging. If you prefer not to use `wandb`, set `LOGGING = False` and `verbose=1`. \n",
    "\n",
    "\n",
    "---\n",
    "\n",
    "> 🔦 More info on PPO and settings can be found in the [SB3 docs](https://stable-baselines3.readthedocs.io/en/master/modules/ppo.html).\n",
    "\n",
    "---"
   ]
  },
  {
   "cell_type": "code",
   "execution_count": 9,
   "metadata": {},
   "outputs": [],
   "source": [
    "from stable_baselines3 import PPO"
   ]
  },
  {
   "cell_type": "code",
   "execution_count": 10,
   "metadata": {},
   "outputs": [],
   "source": [
    "LOGGING = True"
   ]
  },
  {
   "cell_type": "code",
   "execution_count": null,
   "metadata": {},
   "outputs": [],
   "source": [
    "if LOGGING:\n",
    "    wandb.login()\n",
    "    run = wandb.init(\n",
    "        project=\"single_agent_control_sb3_ppo\",\n",
    "        sync_tensorboard=True,\n",
    "    )\n",
    "    run_id = run.id\n",
    "else:\n",
    "    run_id = None\n",
    "\n",
    "# Init PPO algorithm\n",
    "model = PPO(      \n",
    "    policy=\"MlpPolicy\",  # Policy type\n",
    "    n_steps=4096, # Number of steps per rollout\n",
    "    batch_size=128, # Minibatch size\n",
    "    env=env, # Our wrapped environment\n",
    "    seed=42, # Always seed for reproducibility\n",
    "    verbose=0,\n",
    "    tensorboard_log=f\"runs/{run_id}\" if run_id is not None else None, # Sync with wandb\n",
    ")\n",
    "\n",
    "# Learn\n",
    "model.learn(total_timesteps=200_000)"
   ]
  },
  {
   "cell_type": "markdown",
   "metadata": {},
   "source": [
    "### 🤔 How good is your policy?\n",
    "\n",
    "Hooray! You have just trained your first PPO agent in Nocturne! 🏁 \n",
    "\n",
    "Now take a look at information you've logged over training; did we learn?\n",
    "\n",
    "One important metric for assess the effectiveness of your policy is the average cumulative reward per episode. In our case, the **maximum** achievable return per episode is 1 per agent. With the configurations above, your policy should approach this value in 150,000 steps. Here, steps (the `global_step`) represents the total number of **frames** our policy network has seen, you can think of it as the accumulated experience."
   ]
  }
 ],
 "metadata": {
  "kernelspec": {
   "display_name": "nocturne_lab",
   "language": "python",
   "name": "python3"
  },
  "language_info": {
   "codemirror_mode": {
    "name": "ipython",
    "version": 3
   },
   "file_extension": ".py",
   "mimetype": "text/x-python",
   "name": "python",
   "nbconvert_exporter": "python",
   "pygments_lexer": "ipython3",
   "version": "3.10.12"
  },
  "orig_nbformat": 4
 },
 "nbformat": 4,
 "nbformat_minor": 2
}
