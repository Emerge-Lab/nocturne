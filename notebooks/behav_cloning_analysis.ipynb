{
 "cells": [
  {
   "cell_type": "code",
   "execution_count": 1,
   "metadata": {},
   "outputs": [],
   "source": [
    "# Dependencies\n",
    "import numpy as np\n",
    "import glob\n",
    "import pandas as pd\n",
    "from pyvirtualdisplay import Display\n",
    "import seaborn as sns\n",
    "import warnings\n",
    "import os\n",
    "import logging\n",
    "import imageio\n",
    "import matplotlib as mpl\n",
    "from matplotlib import pyplot as plt, patches\n",
    "from utils.config import load_config_nb\n",
    "from evaluation.policy_evaluation import evaluate_policy\n",
    "from nocturne.envs.base_env import BaseEnv\n",
    "from pathlib import Path\n",
    "from IPython.display import HTML, Image\n",
    "\n",
    "sns.set('notebook', font_scale=1.1, rc={'figure.figsize': (10, 5)})\n",
    "sns.set_style('ticks', rc={'figure.facecolor': 'none', 'axes.facecolor': 'none'})\n",
    "%config InlineBackend.figure_format = 'svg'\n",
    "warnings.filterwarnings(\"ignore\")\n",
    "plt.set_loglevel('WARNING')\n",
    "\n",
    "mpl.rcParams['lines.markersize'] = 9"
   ]
  },
  {
   "cell_type": "markdown",
   "metadata": {},
   "source": [
    "### Helper functions"
   ]
  },
  {
   "cell_type": "code",
   "execution_count": 2,
   "metadata": {},
   "outputs": [],
   "source": [
    "def create_video(image_array, filename, *, fps=4, loop=500):\n",
    "    with imageio.get_writer(filename, duration=1_000 / fps, loop=loop) as writer:\n",
    "        for img in image_array:\n",
    "            img = np.moveaxis(img, [0, 1, 2], [2, 0, 1])\n",
    "            writer.append_data(img)\n",
    "\n",
    "\n",
    "def display_gif(filename, width=500, height=500):\n",
    "    display(\n",
    "        Image(\n",
    "            data=open(filename, \"rb\").read(), format=\"gif\", width=width, height=height\n",
    "        )\n",
    "    )"
   ]
  },
  {
   "cell_type": "markdown",
   "metadata": {},
   "source": [
    "### Settings"
   ]
  },
  {
   "cell_type": "code",
   "execution_count": 3,
   "metadata": {},
   "outputs": [],
   "source": [
    "MAX_FILES = 100\n",
    "DETERMINISTIC = True \n",
    "SINGLE_AGENT_MODE = True\n",
    "METRICS = ['goal_rate', 'off_road', 'veh_veh_collision']\n",
    "\n",
    "VIDEO_PATH = '../evaluation/videos' "
   ]
  },
  {
   "cell_type": "markdown",
   "metadata": {},
   "source": [
    "### Configurations"
   ]
  },
  {
   "cell_type": "code",
   "execution_count": 4,
   "metadata": {},
   "outputs": [],
   "source": [
    "# Load config files\n",
    "env_config = load_config_nb(\"env_config\")\n",
    "exp_config = load_config_nb(\"exp_config\")\n",
    "video_config = load_config_nb(\"video_config\")\n",
    "model_config = load_config_nb(\"model_config\")\n",
    "\n",
    "# Set data path\n",
    "env_config.data_path = \"../data_full/train/\"\n",
    "env_config.val_data_path = \"../data_full/valid/\"\n",
    "env_config.num_files = MAX_FILES\n",
    "\n",
    "# Convert to single agent env\n",
    "if SINGLE_AGENT_MODE:\n",
    "    env_config.max_num_vehicles = 1\n",
    "\n",
    "# Logging level set to INFO\n",
    "LOGGING_LEVEL = \"CRITICAL\"\n",
    "\n",
    "# Scenes on which to evaluate the models\n",
    "# Make sure file order is fixed so that we evaluate on the same files used for training\n",
    "train_file_paths = glob.glob(f\"{env_config.data_path}\" + \"/tfrecord*\")\n",
    "train_eval_files = sorted([os.path.basename(file) for file in train_file_paths])[:MAX_FILES]\n",
    "\n",
    "# Test\n",
    "test_file_paths = glob.glob(f\"{env_config.val_data_path}\" + \"/tfrecord*\")\n",
    "test_eval_files = sorted([os.path.basename(file) for file in test_file_paths])[:MAX_FILES]\n",
    "\n",
    "# Behavioral cloning model path\n",
    "BC_BASE_PATH = f\"../models/il/\"\n",
    "\n",
    "# Logging\n",
    "logger = logging.getLogger()\n",
    "logging.basicConfig(format=\"%(message)s\")\n",
    "logger.setLevel(LOGGING_LEVEL)"
   ]
  },
  {
   "cell_type": "markdown",
   "metadata": {},
   "source": [
    "## 1. Establish baseline performance"
   ]
  },
  {
   "cell_type": "markdown",
   "metadata": {},
   "source": [
    "### 1.1 What is the performance of expert replay? | Step env **using positions**"
   ]
  },
  {
   "cell_type": "code",
   "execution_count": 6,
   "metadata": {},
   "outputs": [
    {
     "name": "stderr",
     "output_type": "stream",
     "text": [
      "100%|██████████| 200/200 [00:22<00:00,  8.83it/s]\n"
     ]
    }
   ],
   "source": [
    "df_expert_replay = evaluate_policy(\n",
    "    env_config=env_config,\n",
    "    data_path='../data_full/train/',\n",
    "    mode='expert_replay',\n",
    "    controlled_agents=20,\n",
    "    num_episodes=200,\n",
    "    select_from_k_scenes=1000,\n",
    ")"
   ]
  },
  {
   "cell_type": "code",
   "execution_count": 7,
   "metadata": {},
   "outputs": [
    {
     "data": {
      "text/plain": [
       "goal_rate            96.512408\n",
       "off_road              0.737760\n",
       "veh_veh_collision     2.749832\n",
       "dtype: float64"
      ]
     },
     "execution_count": 7,
     "metadata": {},
     "output_type": "execute_result"
    }
   ],
   "source": [
    "df_expert_replay[METRICS].mean() * 100"
   ]
  },
  {
   "cell_type": "markdown",
   "metadata": {},
   "source": [
    "### 1.2 What is the performance of expert replay? | Step env using **continuous actions**"
   ]
  },
  {
   "cell_type": "code",
   "execution_count": null,
   "metadata": {},
   "outputs": [],
   "source": [
    "df_cont_act_expert_replay = evaluate_policy(\n",
    "    env_config=env_config,\n",
    "    data_path='../data_full/train/',\n",
    "    mode='cont_expert_act_replay',\n",
    "    controlled_agents=20,\n",
    "    num_episodes=200,\n",
    "    select_from_k_scenes=1000,\n",
    ")"
   ]
  },
  {
   "cell_type": "code",
   "execution_count": null,
   "metadata": {},
   "outputs": [
    {
     "data": {
      "text/plain": [
       "goal_rate            36.4\n",
       "off_road             19.6\n",
       "veh_veh_collision    12.7\n",
       "dtype: float64"
      ]
     },
     "execution_count": 10,
     "metadata": {},
     "output_type": "execute_result"
    }
   ],
   "source": [
    "df_cont_act_expert_replay[METRICS].mean() * 100"
   ]
  },
  {
   "cell_type": "markdown",
   "metadata": {},
   "source": [
    "### 1.3 What is the performance of the discretized expert replay? | Step env using **discrete actions**"
   ]
  },
  {
   "cell_type": "code",
   "execution_count": 12,
   "metadata": {},
   "outputs": [],
   "source": [
    "# Uncomment this to change the action space\n",
    "# env_config.accel_discretization = 1001\n",
    "# env_config.accel_lower_bound = -200\n",
    "# env_config.accel_upper_bound = 200\n",
    "# env_config.steering_lower_bound = -np.pi # steer right\n",
    "# env_config.steering_upper_bound = np.pi # steer left\n",
    "# env_config.steering_discretization = 1001"
   ]
  },
  {
   "cell_type": "code",
   "execution_count": 11,
   "metadata": {},
   "outputs": [
    {
     "name": "stderr",
     "output_type": "stream",
     "text": [
      "  0%|          | 0/1000 [00:00<?, ?it/s]"
     ]
    },
    {
     "name": "stderr",
     "output_type": "stream",
     "text": [
      "100%|██████████| 1000/1000 [00:49<00:00, 20.29it/s]\n"
     ]
    }
   ],
   "source": [
    "df_disc_expert_replay = evaluate_policy(\n",
    "    env_config=env_config,\n",
    "    mode='disc_expert_act_replay',\n",
    "    num_scenes=100,\n",
    "    max_iters=1000,\n",
    ")"
   ]
  },
  {
   "cell_type": "code",
   "execution_count": 13,
   "metadata": {},
   "outputs": [
    {
     "data": {
      "text/plain": [
       "goal_rate            48.1\n",
       "off_road             18.4\n",
       "veh_veh_collision     8.5\n",
       "dtype: object"
      ]
     },
     "execution_count": 13,
     "metadata": {},
     "output_type": "execute_result"
    }
   ],
   "source": [
    "df_disc_expert_replay[METRICS].mean() * 100"
   ]
  },
  {
   "cell_type": "markdown",
   "metadata": {},
   "source": [
    "### 1.4 What is the performance of the BC policy?\n",
    "\n",
    "- BC model trained to 0.983 % accuracy\n",
    "- No correction"
   ]
  },
  {
   "cell_type": "code",
   "execution_count": 7,
   "metadata": {},
   "outputs": [],
   "source": [
    "pol_name = 'human_policy_D99_S13_FILTERED_01_29_14_46'\n",
    "pol_name = \"human_policy_D99_S13_FILTERED_01_29_14_46\"\n",
    "pol_name = 'human_policy_D99_S104_FILTERED_01_29_14_02'"
   ]
  },
  {
   "cell_type": "code",
   "execution_count": 9,
   "metadata": {},
   "outputs": [
    {
     "name": "stderr",
     "output_type": "stream",
     "text": [
      "100%|██████████| 100/100 [00:05<00:00, 18.56it/s]\n"
     ]
    }
   ],
   "source": [
    "from utils.policies import load_policy\n",
    "\n",
    "# BEHAVIORAL CLONING\n",
    "human_policy = load_policy(\n",
    "    data_path=\"../models/il\",\n",
    "    file_name=pol_name, \n",
    ")\n",
    "\n",
    "df_bc = evaluate_policy(\n",
    "    env_config=env_config,\n",
    "    controlled_agents=1,\n",
    "    data_path='../data_full/train/',\n",
    "    mode=\"policy\",\n",
    "    policy=human_policy,\n",
    "    select_from_k_scenes=100,\n",
    "    num_episodes=100,\n",
    ")"
   ]
  },
  {
   "cell_type": "code",
   "execution_count": 10,
   "metadata": {},
   "outputs": [
    {
     "data": {
      "text/plain": [
       "goal_rate            0.47\n",
       "off_road             0.21\n",
       "veh_veh_collision    0.12\n",
       "dtype: float64"
      ]
     },
     "execution_count": 10,
     "metadata": {},
     "output_type": "execute_result"
    }
   ],
   "source": [
    "df_bc[[\"goal_rate\", \"off_road\", \"veh_veh_collision\"]].mean()"
   ]
  },
  {
   "cell_type": "code",
   "execution_count": null,
   "metadata": {},
   "outputs": [],
   "source": []
  }
 ],
 "metadata": {
  "kernelspec": {
   "display_name": "nocturne_lab",
   "language": "python",
   "name": "python3"
  },
  "language_info": {
   "codemirror_mode": {
    "name": "ipython",
    "version": 3
   },
   "file_extension": ".py",
   "mimetype": "text/x-python",
   "name": "python",
   "nbconvert_exporter": "python",
   "pygments_lexer": "ipython3",
   "version": "3.10.12"
  }
 },
 "nbformat": 4,
 "nbformat_minor": 2
}
