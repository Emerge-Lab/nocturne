{
 "cells": [
  {
   "cell_type": "code",
   "execution_count": 1,
   "metadata": {},
   "outputs": [],
   "source": [
    "import numpy as np\n",
    "import pandas as pd\n",
    "import seaborn as sns\n",
    "import matplotlib.pyplot as plt\n",
    "import warnings\n",
    "\n",
    "from utils.config import load_config_nb\n",
    "\n",
    "# Configuration for plotting and warnings\n",
    "sns.set(context='notebook', font_scale=1.1, \n",
    "        style='ticks', rc={'figure.figsize': (8, 3), 'figure.facecolor': 'none', 'axes.facecolor': 'none'})\n",
    "plt.set_loglevel('WARNING')\n",
    "plt.rcParams.update({'lines.markeredgewidth': 1})\n",
    "warnings.filterwarnings(\"ignore\")\n",
    "%config InlineBackend.figure_format = 'svg'"
   ]
  },
  {
   "cell_type": "code",
   "execution_count": 2,
   "metadata": {},
   "outputs": [],
   "source": [
    "from algorithms.ppo.sb3.data_reg_ppo import DataRegularizedPPO\n",
    "from algorithms.ppo.sb3.reg_ppo import RegularizedPPO\n",
    "from utils.policy_evaluation import evaluate_policy"
   ]
  },
  {
   "cell_type": "markdown",
   "metadata": {},
   "source": [
    "### Evaluate KL-regularized policy"
   ]
  },
  {
   "cell_type": "code",
   "execution_count": 3,
   "metadata": {},
   "outputs": [
    {
     "name": "stderr",
     "output_type": "stream",
     "text": [
      "INFO:root:No regularization weight specified, using default PPO.\n",
      "INFO:root:No regularization weight specified, using default PPO.\n"
     ]
    }
   ],
   "source": [
    "kl_reg_policy = RegularizedPPO.load(\n",
    "    '/home/emerge/daphne/nocturne_lab/models_tmp/policy_KL-reg-L0.06_S10_I786.zip'\n",
    ");\n",
    "\n",
    "data_reg_policy = RegularizedPPO.load(\n",
    "    '/home/emerge/daphne/nocturne_lab/models_tmp/policy_Data-reg-L0.03_S10_I700.zip',\n",
    ");"
   ]
  },
  {
   "cell_type": "markdown",
   "metadata": {},
   "source": [
    "### Configurations"
   ]
  },
  {
   "cell_type": "code",
   "execution_count": 4,
   "metadata": {},
   "outputs": [],
   "source": [
    "# Load environment config\n",
    "env_config = load_config_nb(\"env_config\")\n",
    "\n",
    "# Set data path to NEW scenes (with is_av flag)\n",
    "env_config.data_path = \"../data/train_no_tl\"\n",
    "\n",
    "\n",
    "SELECT_FROM_K_SCENES = 10\n",
    "K_EPISODES = 200"
   ]
  },
  {
   "cell_type": "code",
   "execution_count": 5,
   "metadata": {},
   "outputs": [
    {
     "name": "stderr",
     "output_type": "stream",
     "text": [
      "  0%|          | 0/200 [00:00<?, ?it/s]"
     ]
    },
    {
     "name": "stderr",
     "output_type": "stream",
     "text": [
      "100%|██████████| 200/200 [00:14<00:00, 13.93it/s]\n",
      "100%|██████████| 200/200 [00:14<00:00, 14.09it/s]\n",
      "  9%|▉         | 18/200 [00:05<01:45,  1.73it/s]"
     ]
    }
   ],
   "source": [
    "df = pd.DataFrame()\n",
    "\n",
    "for controlled_agents in [1, 200]:\n",
    "    for policy_type in ['kl_reg', 'data_reg']:\n",
    "            \n",
    "        if policy_type == 'kl_reg':\n",
    "            policy = kl_reg_policy    \n",
    "        elif policy_type == 'data_reg':\n",
    "            policy = data_reg_policy\n",
    "        \n",
    "        df_res = evaluate_policy(\n",
    "            env_config=env_config,\n",
    "            controlled_agents=controlled_agents,\n",
    "            data_path=env_config.data_path,\n",
    "            mode=\"policy\",\n",
    "            policy=policy,\n",
    "            select_from_k_scenes=SELECT_FROM_K_SCENES,\n",
    "            num_episodes=K_EPISODES,\n",
    "            use_av_only=False,\n",
    "            deterministic=False,\n",
    "        )\n",
    "        \n",
    "        eval_mode = \"self-play\" if controlled_agents > 1 else \"log-replay\"\n",
    "        \n",
    "        df_res[\"eval_mode\"] = eval_mode\n",
    "        df_res[\"policy_type\"] = policy_type\n",
    "        \n",
    "        df = pd.concat([df, df_res], ignore_index=True)"
   ]
  },
  {
   "cell_type": "code",
   "execution_count": null,
   "metadata": {},
   "outputs": [],
   "source": [
    "tab_res = pd.pivot_table( \n",
    "    df, \n",
    "    values=[\"goal_rate\", \"off_road\", \"veh_veh_collision\"], \n",
    "    index=[\"policy_type\", \"eval_mode\"], \n",
    "    aggfunc=\"mean\"\n",
    ")"
   ]
  },
  {
   "cell_type": "code",
   "execution_count": null,
   "metadata": {},
   "outputs": [
    {
     "data": {
      "text/html": [
       "<div>\n",
       "<style scoped>\n",
       "    .dataframe tbody tr th:only-of-type {\n",
       "        vertical-align: middle;\n",
       "    }\n",
       "\n",
       "    .dataframe tbody tr th {\n",
       "        vertical-align: top;\n",
       "    }\n",
       "\n",
       "    .dataframe thead th {\n",
       "        text-align: right;\n",
       "    }\n",
       "</style>\n",
       "<table border=\"1\" class=\"dataframe\">\n",
       "  <thead>\n",
       "    <tr style=\"text-align: right;\">\n",
       "      <th></th>\n",
       "      <th></th>\n",
       "      <th>goal_rate</th>\n",
       "      <th>off_road</th>\n",
       "      <th>veh_veh_collision</th>\n",
       "    </tr>\n",
       "    <tr>\n",
       "      <th>policy_type</th>\n",
       "      <th>eval_mode</th>\n",
       "      <th></th>\n",
       "      <th></th>\n",
       "      <th></th>\n",
       "    </tr>\n",
       "  </thead>\n",
       "  <tbody>\n",
       "    <tr>\n",
       "      <th rowspan=\"2\" valign=\"top\">data_reg</th>\n",
       "      <th>log-replay</th>\n",
       "      <td>86.50</td>\n",
       "      <td>7.00</td>\n",
       "      <td>8.00</td>\n",
       "    </tr>\n",
       "    <tr>\n",
       "      <th>self-play</th>\n",
       "      <td>96.60</td>\n",
       "      <td>3.40</td>\n",
       "      <td>0.43</td>\n",
       "    </tr>\n",
       "    <tr>\n",
       "      <th rowspan=\"2\" valign=\"top\">kl_reg</th>\n",
       "      <th>log-replay</th>\n",
       "      <td>85.50</td>\n",
       "      <td>5.50</td>\n",
       "      <td>9.50</td>\n",
       "    </tr>\n",
       "    <tr>\n",
       "      <th>self-play</th>\n",
       "      <td>94.26</td>\n",
       "      <td>4.15</td>\n",
       "      <td>1.81</td>\n",
       "    </tr>\n",
       "  </tbody>\n",
       "</table>\n",
       "</div>"
      ],
      "text/plain": [
       "                        goal_rate  off_road  veh_veh_collision\n",
       "policy_type eval_mode                                         \n",
       "data_reg    log-replay      86.50      7.00               8.00\n",
       "            self-play       96.60      3.40               0.43\n",
       "kl_reg      log-replay      85.50      5.50               9.50\n",
       "            self-play       94.26      4.15               1.81"
      ]
     },
     "execution_count": 60,
     "metadata": {},
     "output_type": "execute_result"
    }
   ],
   "source": [
    "# Diplay the first two decimal places\n",
    "tab_res *= 100\n",
    "tab_res = tab_res.apply(lambda x: round(x, 2))\n",
    "\n",
    "tab_res"
   ]
  },
  {
   "cell_type": "code",
   "execution_count": null,
   "metadata": {},
   "outputs": [],
   "source": []
  }
 ],
 "metadata": {
  "kernelspec": {
   "display_name": "nocturne_lab",
   "language": "python",
   "name": "python3"
  },
  "language_info": {
   "codemirror_mode": {
    "name": "ipython",
    "version": 3
   },
   "file_extension": ".py",
   "mimetype": "text/x-python",
   "name": "python",
   "nbconvert_exporter": "python",
   "pygments_lexer": "ipython3",
   "version": "3.10.12"
  }
 },
 "nbformat": 4,
 "nbformat_minor": 2
}
